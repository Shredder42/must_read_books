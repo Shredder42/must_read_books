{
 "cells": [
  {
   "cell_type": "code",
   "execution_count": 2,
   "metadata": {},
   "outputs": [],
   "source": [
    "from pymongo import MongoClient\n",
    "import pprint\n",
    "import pandas as pd\n",
    "import requests\n",
    "from bs4 import BeautifulSoup\n",
    "import json\n",
    "import time"
   ]
  },
  {
   "cell_type": "markdown",
   "metadata": {},
   "source": [
    "Request the URL"
   ]
  },
  {
   "cell_type": "code",
   "execution_count": 3,
   "metadata": {},
   "outputs": [],
   "source": [
    "url = 'https://www.goodreads.com/list/show/264.Books_That_Everyone_Should_Read_At_Least_Once?page=1'\n",
    "r = requests.get(url)"
   ]
  },
  {
   "cell_type": "code",
   "execution_count": 4,
   "metadata": {},
   "outputs": [
    {
     "data": {
      "text/plain": [
       "200"
      ]
     },
     "execution_count": 4,
     "metadata": {},
     "output_type": "execute_result"
    }
   ],
   "source": [
    "r.status_code "
   ]
  },
  {
   "cell_type": "markdown",
   "metadata": {},
   "source": [
    "Save into MongoDB"
   ]
  },
  {
   "cell_type": "code",
   "execution_count": 5,
   "metadata": {},
   "outputs": [],
   "source": [
    "client = MongoClient()\n",
    "db = client.goodreads"
   ]
  },
  {
   "cell_type": "code",
   "execution_count": 6,
   "metadata": {},
   "outputs": [],
   "source": [
    "page1 = db.must_read_books"
   ]
  },
  {
   "cell_type": "code",
   "execution_count": 8,
   "metadata": {},
   "outputs": [
    {
     "data": {
      "text/plain": [
       "<pymongo.results.InsertOneResult at 0x7f4c502c7f00>"
      ]
     },
     "execution_count": 8,
     "metadata": {},
     "output_type": "execute_result"
    }
   ],
   "source": [
    "page1.insert_one({'html': r.text})"
   ]
  },
  {
   "cell_type": "markdown",
   "metadata": {},
   "source": [
    "Parse text to get data"
   ]
  },
  {
   "cell_type": "code",
   "execution_count": 10,
   "metadata": {},
   "outputs": [],
   "source": [
    "soup = BeautifulSoup(r.text, 'html.parser')"
   ]
  },
  {
   "cell_type": "markdown",
   "metadata": {},
   "source": [
    "This should give me everything that is in the entry for each book - only indexing the first one"
   ]
  },
  {
   "cell_type": "code",
   "execution_count": 11,
   "metadata": {},
   "outputs": [
    {
     "data": {
      "text/plain": [
       "<tr itemscope=\"\" itemtype=\"http://schema.org/Book\">\n",
       "<td class=\"number\" valign=\"top\">1</td>\n",
       "<td valign=\"top\" width=\"5%\">\n",
       "<div class=\"u-anchorTarget\" id=\"2657\"></div>\n",
       "<div class=\"js-tooltipTrigger tooltipTrigger\" data-resource-id=\"2657\" data-resource-type=\"Book\">\n",
       "<a href=\"/book/show/2657.To_Kill_a_Mockingbird\" title=\"To Kill a Mockingbird\">\n",
       "<img alt=\"To Kill a Mockingbird\" class=\"bookCover\" itemprop=\"image\" src=\"https://i.gr-assets.com/images/S/compressed.photo.goodreads.com/books/1553383690i/2657._SY75_.jpg\"/>\n",
       "</a> </div>\n",
       "</td>\n",
       "<td valign=\"top\" width=\"100%\">\n",
       "<a class=\"bookTitle\" href=\"/book/show/2657.To_Kill_a_Mockingbird\" itemprop=\"url\">\n",
       "<span aria-level=\"4\" itemprop=\"name\" role=\"heading\">To Kill a Mockingbird</span>\n",
       "</a> <br>\n",
       "<span class=\"by\">by</span>\n",
       "<span itemprop=\"author\" itemscope=\"\" itemtype=\"http://schema.org/Person\">\n",
       "<div class=\"authorName__container\">\n",
       "<a class=\"authorName\" href=\"https://www.goodreads.com/author/show/1825.Harper_Lee\" itemprop=\"url\"><span itemprop=\"name\">Harper Lee</span></a>\n",
       "</div>\n",
       "</span>\n",
       "<br/>\n",
       "<div>\n",
       "<span class=\"greyText smallText uitext\">\n",
       "<span class=\"minirating\"><span class=\"stars staticStars notranslate\"><span class=\"staticStar p10\" size=\"12x12\"></span><span class=\"staticStar p10\" size=\"12x12\"></span><span class=\"staticStar p10\" size=\"12x12\"></span><span class=\"staticStar p10\" size=\"12x12\"></span><span class=\"staticStar p3\" size=\"12x12\"></span></span> 4.28 avg rating — 4,499,968 ratings</span>\n",
       "</span>\n",
       "</div>\n",
       "<div style=\"margin-top: 5px\">\n",
       "<span class=\"smallText uitext\">\n",
       "<a href=\"#\" onclick=\"Lightbox.showBoxByID('score_explanation', 300); return false;\">score: 2,314,644</a>,\n",
       "              <span class=\"greyText\">and</span>\n",
       "<a href=\"#\" id=\"loading_link_976347\" onclick=\"new Ajax.Request('/list/list_book/6011590', {asynchronous:true, evalScripts:true, onFailure:function(request){Element.hide('loading_anim_976347');$('loading_link_976347').innerHTML = '&lt;span class=&quot;error&quot;&gt;ERROR&lt;/span&gt;try again';$('loading_link_976347').show();}, onLoading:function(request){;Element.show('loading_anim_976347');Element.hide('loading_link_976347')}, onSuccess:function(request){Element.hide('loading_anim_976347');Element.show('loading_link_976347');}, parameters:'authenticity_token=' + encodeURIComponent('LHRjgdMKCzLGVANKf6o/117roqbICa+nppGxhrBx6HW6Qsvlul4bB5hLz/1QTZX2jxgKCa1XtuqB6uka7Gqnsg==')}); return false;\">23,464 people voted</a><img alt=\"Loading trans\" class=\"loading\" id=\"loading_anim_976347\" src=\"https://s.gr-assets.com/assets/loading-trans-ced157046184c3bc7c180ffbfc6825a4.gif\" style=\"display:none\"/>\n",
       "               \n",
       "              \n",
       "            </span>\n",
       "</div>\n",
       "</br></td>\n",
       "<td width=\"130px\">\n",
       "<div class=\"wtrButtonContainer wtrSignedOut\" id=\"1_book_2657\">\n",
       "<div class=\"wtrUp wtrLeft\">\n",
       "<form accept-charset=\"UTF-8\" action=\"/shelf/add_to_shelf\" method=\"post\"><input name=\"utf8\" type=\"hidden\" value=\"✓\"/><input name=\"authenticity_token\" type=\"hidden\" value=\"W+9oJpTXVQAEuZvTkJ+e12Nh1kMEm7pG3ACsWm7XcyHN2cBC/YNFNVqmV2S/eDT2spJ+7GHFowv7e/TGMsw85g==\"/>\n",
       "<input id=\"book_id\" name=\"book_id\" type=\"hidden\" value=\"2657\"/>\n",
       "<input id=\"name\" name=\"name\" type=\"hidden\" value=\"to-read\"/>\n",
       "<input id=\"unique_id\" name=\"unique_id\" type=\"hidden\" value=\"1_book_2657\"/>\n",
       "<input id=\"wtr_new\" name=\"wtr_new\" type=\"hidden\" value=\"true\"/>\n",
       "<input id=\"from_choice\" name=\"from_choice\" type=\"hidden\" value=\"false\"/>\n",
       "<input id=\"from_home_module\" name=\"from_home_module\" type=\"hidden\" value=\"false\"/>\n",
       "<input class=\"wtrLeftUpRef\" id=\"ref\" name=\"ref\" type=\"hidden\" value=\"\"/>\n",
       "<input class=\"wtrExisting\" id=\"existing_review\" name=\"existing_review\" type=\"hidden\" value=\"false\"/>\n",
       "<input id=\"page_url\" name=\"page_url\" type=\"hidden\"/>\n",
       "<button class=\"wtrToRead\" type=\"submit\">\n",
       "<span class=\"progressTrigger\">Want to Read</span>\n",
       "<span class=\"progressIndicator\">saving…</span>\n",
       "</button>\n",
       "</form>\n",
       "</div>\n",
       "<div class=\"wtrRight wtrUp\">\n",
       "<form accept-charset=\"UTF-8\" action=\"/shelf/add_to_shelf\" class=\"hiddenShelfForm\" method=\"post\"><input name=\"utf8\" type=\"hidden\" value=\"✓\"/><input name=\"authenticity_token\" type=\"hidden\" value=\"bUmxHIaHBXxNymBAPNtaOIjeRm2FYSxMQO9AVPd+FAr7fxl479MVSRPVrPcTPPAZWS3uwuA/NQFnlBjIq2VbzQ==\"/>\n",
       "<input id=\"unique_id\" name=\"unique_id\" type=\"hidden\" value=\"1_book_2657\"/>\n",
       "<input id=\"book_id\" name=\"book_id\" type=\"hidden\" value=\"2657\"/>\n",
       "<input id=\"a\" name=\"a\" type=\"hidden\"/>\n",
       "<input id=\"name\" name=\"name\" type=\"hidden\"/>\n",
       "<input id=\"from_choice\" name=\"from_choice\" type=\"hidden\" value=\"false\"/>\n",
       "<input id=\"from_home_module\" name=\"from_home_module\" type=\"hidden\" value=\"false\"/>\n",
       "<input id=\"page_url\" name=\"page_url\" type=\"hidden\"/>\n",
       "</form>\n",
       "<button class=\"wtrShelfButton\"></button>\n",
       "<div class=\"wtrShelfMenu\">\n",
       "<ul class=\"wtrExclusiveShelves\">\n",
       "<li><button class=\"wtrExclusiveShelf\" name=\"name\" type=\"submit\" value=\"to-read\">\n",
       "<span class=\"progressTrigger\">Want to Read</span>\n",
       "<img alt=\"saving…\" class=\"progressIndicator\" src=\"https://s.gr-assets.com/assets/loading-trans-ced157046184c3bc7c180ffbfc6825a4.gif\"/>\n",
       "</button>\n",
       "</li>\n",
       "<li><button class=\"wtrExclusiveShelf\" name=\"name\" type=\"submit\" value=\"currently-reading\">\n",
       "<span class=\"progressTrigger\">Currently Reading</span>\n",
       "<img alt=\"saving…\" class=\"progressIndicator\" src=\"https://s.gr-assets.com/assets/loading-trans-ced157046184c3bc7c180ffbfc6825a4.gif\"/>\n",
       "</button>\n",
       "</li>\n",
       "<li><button class=\"wtrExclusiveShelf\" name=\"name\" type=\"submit\" value=\"read\">\n",
       "<span class=\"progressTrigger\">Read</span>\n",
       "<img alt=\"saving…\" class=\"progressIndicator\" src=\"https://s.gr-assets.com/assets/loading-trans-ced157046184c3bc7c180ffbfc6825a4.gif\"/>\n",
       "</button>\n",
       "</li>\n",
       "</ul>\n",
       "</div>\n",
       "</div>\n",
       "<div class=\"ratingStars wtrRating\">\n",
       "<div class=\"starsErrorTooltip hidden\">\n",
       "Error rating book. Refresh and try again.\n",
       "</div>\n",
       "<div class=\"myRating uitext greyText\">Rate this book</div>\n",
       "<div class=\"clearRating uitext\">Clear rating</div>\n",
       "<div class=\"stars\" data-rating=\"0\" data-resource-id=\"2657\" data-submit-url=\"/review/rate/2657?stars_click=true&amp;wtr_button_id=1_book_2657\" data-user-id=\"0\"><a class=\"star off\" href=\"#\" ref=\"\" title=\"did not like it\">1 of 5 stars</a><a class=\"star off\" href=\"#\" ref=\"\" title=\"it was ok\">2 of 5 stars</a><a class=\"star off\" href=\"#\" ref=\"\" title=\"liked it\">3 of 5 stars</a><a class=\"star off\" href=\"#\" ref=\"\" title=\"really liked it\">4 of 5 stars</a><a class=\"star off\" href=\"#\" ref=\"\" title=\"it was amazing\">5 of 5 stars</a></div>\n",
       "</div>\n",
       "</div>\n",
       "</td>\n",
       "</tr>"
      ]
     },
     "execution_count": 11,
     "metadata": {},
     "output_type": "execute_result"
    }
   ],
   "source": [
    "soup.find_all('tr', '')[0]"
   ]
  },
  {
   "cell_type": "markdown",
   "metadata": {},
   "source": [
    "Identify the elements that I want"
   ]
  },
  {
   "cell_type": "code",
   "execution_count": 19,
   "metadata": {},
   "outputs": [],
   "source": [
    "entries = soup.find_all('tr', '')[0]"
   ]
  },
  {
   "cell_type": "code",
   "execution_count": 63,
   "metadata": {},
   "outputs": [
    {
     "data": {
      "text/plain": [
       "'/book/show/2657.To_Kill_a_Mockingbird'"
      ]
     },
     "execution_count": 63,
     "metadata": {},
     "output_type": "execute_result"
    }
   ],
   "source": [
    "entries.find('td', 'number').text # ranking\n",
    "entries.find('a', 'bookTitle').text.strip() # title\n",
    "entries.find('a', 'bookTitle')['href'] # link to book\n",
    "entries.find('a', 'authorName').text.rstrip() # author\n",
    "entries.find('span', 'minirating').text.strip() # rating\n",
    "entries.find('span', 'smallText uitext').find('a').text # score\n",
    "entries.find('span', 'smallText uitext').find_all('a')[1].text # votes\n"
   ]
  },
  {
   "cell_type": "markdown",
   "metadata": {},
   "source": [
    "Add front end of url to completed working link"
   ]
  },
  {
   "cell_type": "code",
   "execution_count": 66,
   "metadata": {},
   "outputs": [
    {
     "data": {
      "text/plain": [
       "'https://www.goodreads.com/book/show/2657.To_Kill_a_Mockingbird'"
      ]
     },
     "execution_count": 66,
     "metadata": {},
     "output_type": "execute_result"
    }
   ],
   "source": [
    "# link_pt1 = 'https://www.goodreads.com'\n",
    "# link_pt2 = entries.find('a', 'bookTitle')['href']\n",
    "link_lst = ['https://www.goodreads.com', entries.find('a', 'bookTitle')['href']]\n",
    "full_link = ''.join(link_lst)"
   ]
  },
  {
   "cell_type": "code",
   "execution_count": 74,
   "metadata": {},
   "outputs": [],
   "source": [
    "b_title = []\n",
    "author = []\n",
    "ranking = []\n",
    "rating = []\n",
    "score = []\n",
    "votes = []\n",
    "links_pt2 = []"
   ]
  },
  {
   "cell_type": "code",
   "execution_count": 75,
   "metadata": {},
   "outputs": [],
   "source": [
    "for idx, book in enumerate(soup.find_all('tr', '')):\n",
    "    b_title.append(book.find('a', 'bookTitle').text.strip())\n",
    "    author.append(book.find('a', 'authorName').text.strip())\n",
    "    ranking.append(book.find('td', 'number').text)\n",
    "    rating.append(book.find('span', 'minirating').text.strip())\n",
    "    score.append(book.find('span', 'smallText uitext').find('a').text)\n",
    "    votes.append(book.find('span', 'smallText uitext').find_all('a')[1].text)\n",
    "    links_pt2.append(book.find('a', 'bookTitle')['href'])\n"
   ]
  },
  {
   "cell_type": "code",
   "execution_count": 77,
   "metadata": {
    "scrolled": true
   },
   "outputs": [
    {
     "data": {
      "text/plain": [
       "['To Kill a Mockingbird',\n",
       " \"Harry Potter and the Sorcerer's Stone (Harry Potter, #1)\",\n",
       " '1984',\n",
       " 'Pride and Prejudice',\n",
       " 'The Diary of a Young Girl',\n",
       " 'Animal Farm',\n",
       " 'The Little Prince',\n",
       " 'The Great Gatsby',\n",
       " 'The Catcher in the Rye',\n",
       " 'The Lord of the Rings',\n",
       " 'The Book Thief',\n",
       " 'Jane Eyre',\n",
       " 'The Chronicles of Narnia (Chronicles of Narnia, #1-7)',\n",
       " 'Lord of the Flies',\n",
       " 'Romeo and Juliet',\n",
       " 'Harry Potter and the Deathly Hallows (Harry Potter, #7)',\n",
       " 'The Kite Runner',\n",
       " 'The Giver (The Giver, #1)',\n",
       " 'The Giving Tree',\n",
       " \"Charlotte's Web\",\n",
       " 'Little Women',\n",
       " 'The Hunger Games (The Hunger Games, #1)',\n",
       " 'The Hobbit, or There and Back Again',\n",
       " 'Green Eggs and Ham',\n",
       " 'Of Mice and Men',\n",
       " 'Harry Potter and the Prisoner of Azkaban (Harry Potter, #3)',\n",
       " 'Fahrenheit 451',\n",
       " \"Alice's Adventures in Wonderland & Through the Looking-Glass\",\n",
       " 'Wuthering Heights',\n",
       " 'Gone with the Wind',\n",
       " 'Night  (The Night Trilogy, #1)',\n",
       " 'The Picture of Dorian Gray',\n",
       " 'Holy Bible: King James Version',\n",
       " 'Harry Potter and the Goblet of Fire (Harry Potter, #4)',\n",
       " \"The Hitchhiker's Guide to the Galaxy (Hitchhiker's Guide to the Galaxy, #1)\",\n",
       " 'Tolkien on Fairy-stories',\n",
       " 'Hamlet',\n",
       " 'The Adventures of Huckleberry Finn',\n",
       " 'Harry Potter and the Half-Blood Prince (Harry Potter, #6)',\n",
       " 'Les Misérables',\n",
       " 'Brave New World / Brave New World Revisited',\n",
       " 'The Alchemist',\n",
       " 'Crime and Punishment',\n",
       " 'The Help',\n",
       " 'The Secret Garden',\n",
       " 'Memoirs of a Geisha',\n",
       " 'The Lion, the Witch and the Wardrobe (Chronicles of Narnia, #1)',\n",
       " 'The Odyssey',\n",
       " 'A Christmas Carol',\n",
       " 'The Cat in the Hat (The Cat in the Hat, #1)',\n",
       " 'The Outsiders',\n",
       " 'The Color Purple',\n",
       " 'The Grapes of Wrath',\n",
       " 'One Hundred Years of Solitude',\n",
       " 'A Thousand Splendid Suns',\n",
       " 'Where the Sidewalk Ends',\n",
       " 'Anne of Green Gables (Anne of Green Gables, #1)',\n",
       " 'Where the Wild Things Are',\n",
       " \"Ender's Game (Ender's Saga, #1)\",\n",
       " 'The Adventures of Tom Sawyer',\n",
       " 'A Tale of Two Cities',\n",
       " 'The Count of Monte Cristo',\n",
       " 'Life of Pi',\n",
       " \"One Flew Over the Cuckoo's Nest\",\n",
       " \"Oh, the Places You'll Go!\",\n",
       " 'Anna Karenina',\n",
       " 'Flowers for Algernon',\n",
       " 'Frankenstein: The 1818 Text',\n",
       " 'Winnie-the-Pooh (Winnie-the-Pooh, #1)',\n",
       " \"The Handmaid's Tale (The Handmaid's Tale, #1)\",\n",
       " 'Tuesdays with Morrie',\n",
       " 'The Fellowship of the Ring (The Lord of the Rings, #1)',\n",
       " 'Slaughterhouse-Five',\n",
       " 'Catch-22 (Catch-22, #1)',\n",
       " 'The Old Man and the Sea',\n",
       " 'The Scarlet Letter',\n",
       " 'Macbeth',\n",
       " 'Twilight (Twilight, #1)',\n",
       " 'Lolita',\n",
       " \"The Time Traveler's Wife\",\n",
       " 'Siddhartha',\n",
       " 'The Metamorphosis',\n",
       " 'The Stranger',\n",
       " 'Goodnight Moon',\n",
       " 'A Tree Grows in Brooklyn',\n",
       " 'War and Peace',\n",
       " 'The Little House Collection (Little House, #1-9)',\n",
       " 'A Clockwork Orange',\n",
       " 'Harry Potter and the Chamber of Secrets (Harry Potter, #2)',\n",
       " 'All Quiet on the Western Front',\n",
       " 'The Stand',\n",
       " \"Uncle Tom's Cabin\",\n",
       " 'Don Quixote',\n",
       " 'القرآن الكريم',\n",
       " 'Atlas Shrugged',\n",
       " 'The Brothers Karamazov',\n",
       " 'The Book of Mormon: Another Testament of Jesus Christ',\n",
       " 'The Poisonwood Bible',\n",
       " 'Moby-Dick or, the Whale',\n",
       " \"I Know Why the Caged Bird Sings (Maya Angelou's Autobiography, #1)\"]"
      ]
     },
     "execution_count": 77,
     "metadata": {},
     "output_type": "execute_result"
    }
   ],
   "source": [
    "b_title"
   ]
  },
  {
   "cell_type": "markdown",
   "metadata": {},
   "source": [
    "Add front end of url to each relative path"
   ]
  },
  {
   "cell_type": "code",
   "execution_count": 81,
   "metadata": {},
   "outputs": [],
   "source": [
    "def combine_url_parts(lst):\n",
    "    \n",
    "    full_links = []\n",
    "    for idx, link in enumerate(lst):\n",
    "        link_lst = ['https://www.goodreads.com', lst[idx]]\n",
    "        full_link = ''.join(link_lst)\n",
    "        full_links.append(full_link)\n",
    "    return full_links"
   ]
  },
  {
   "cell_type": "code",
   "execution_count": 82,
   "metadata": {},
   "outputs": [
    {
     "data": {
      "text/plain": [
       "['https://www.goodreads.com/book/show/2657.To_Kill_a_Mockingbird',\n",
       " 'https://www.goodreads.com/book/show/3.Harry_Potter_and_the_Sorcerer_s_Stone',\n",
       " 'https://www.goodreads.com/book/show/40961427-1984',\n",
       " 'https://www.goodreads.com/book/show/1885.Pride_and_Prejudice',\n",
       " 'https://www.goodreads.com/book/show/48855.The_Diary_of_a_Young_Girl',\n",
       " 'https://www.goodreads.com/book/show/170448.Animal_Farm',\n",
       " 'https://www.goodreads.com/book/show/157993.The_Little_Prince',\n",
       " 'https://www.goodreads.com/book/show/4671.The_Great_Gatsby',\n",
       " 'https://www.goodreads.com/book/show/5107.The_Catcher_in_the_Rye',\n",
       " 'https://www.goodreads.com/book/show/33.The_Lord_of_the_Rings',\n",
       " 'https://www.goodreads.com/book/show/19063.The_Book_Thief',\n",
       " 'https://www.goodreads.com/book/show/10210.Jane_Eyre',\n",
       " 'https://www.goodreads.com/book/show/11127.The_Chronicles_of_Narnia',\n",
       " 'https://www.goodreads.com/book/show/7624.Lord_of_the_Flies',\n",
       " 'https://www.goodreads.com/book/show/18135.Romeo_and_Juliet',\n",
       " 'https://www.goodreads.com/book/show/136251.Harry_Potter_and_the_Deathly_Hallows',\n",
       " 'https://www.goodreads.com/book/show/77203.The_Kite_Runner',\n",
       " 'https://www.goodreads.com/book/show/3636.The_Giver',\n",
       " 'https://www.goodreads.com/book/show/370493.The_Giving_Tree',\n",
       " 'https://www.goodreads.com/book/show/24178.Charlotte_s_Web',\n",
       " 'https://www.goodreads.com/book/show/1934.Little_Women',\n",
       " 'https://www.goodreads.com/book/show/2767052-the-hunger-games',\n",
       " 'https://www.goodreads.com/book/show/5907.The_Hobbit_or_There_and_Back_Again',\n",
       " 'https://www.goodreads.com/book/show/23772.Green_Eggs_and_Ham',\n",
       " 'https://www.goodreads.com/book/show/890.Of_Mice_and_Men',\n",
       " 'https://www.goodreads.com/book/show/5.Harry_Potter_and_the_Prisoner_of_Azkaban',\n",
       " 'https://www.goodreads.com/book/show/13079982-fahrenheit-451',\n",
       " 'https://www.goodreads.com/book/show/24213.Alice_s_Adventures_in_Wonderland_Through_the_Looking_Glass',\n",
       " 'https://www.goodreads.com/book/show/6185.Wuthering_Heights',\n",
       " 'https://www.goodreads.com/book/show/18405.Gone_with_the_Wind',\n",
       " 'https://www.goodreads.com/book/show/1617.Night',\n",
       " 'https://www.goodreads.com/book/show/5297.The_Picture_of_Dorian_Gray',\n",
       " 'https://www.goodreads.com/book/show/1923820.Holy_Bible',\n",
       " 'https://www.goodreads.com/book/show/6.Harry_Potter_and_the_Goblet_of_Fire',\n",
       " 'https://www.goodreads.com/book/show/386162.The_Hitchhiker_s_Guide_to_the_Galaxy',\n",
       " 'https://www.goodreads.com/book/show/1362112.Tolkien_on_Fairy_stories',\n",
       " 'https://www.goodreads.com/book/show/1420.Hamlet',\n",
       " 'https://www.goodreads.com/book/show/2956.The_Adventures_of_Huckleberry_Finn',\n",
       " 'https://www.goodreads.com/book/show/1.Harry_Potter_and_the_Half_Blood_Prince',\n",
       " 'https://www.goodreads.com/book/show/24280.Les_Mis_rables',\n",
       " 'https://www.goodreads.com/book/show/5479.Brave_New_World_Brave_New_World_Revisited',\n",
       " 'https://www.goodreads.com/book/show/18144590-the-alchemist',\n",
       " 'https://www.goodreads.com/book/show/7144.Crime_and_Punishment',\n",
       " 'https://www.goodreads.com/book/show/4667024-the-help',\n",
       " 'https://www.goodreads.com/book/show/2998.The_Secret_Garden',\n",
       " 'https://www.goodreads.com/book/show/929.Memoirs_of_a_Geisha',\n",
       " 'https://www.goodreads.com/book/show/100915.The_Lion_the_Witch_and_the_Wardrobe',\n",
       " 'https://www.goodreads.com/book/show/1381.The_Odyssey',\n",
       " 'https://www.goodreads.com/book/show/5326.A_Christmas_Carol',\n",
       " 'https://www.goodreads.com/book/show/233093.The_Cat_in_the_Hat',\n",
       " 'https://www.goodreads.com/book/show/231804.The_Outsiders',\n",
       " 'https://www.goodreads.com/book/show/52892857-the-color-purple',\n",
       " 'https://www.goodreads.com/book/show/18114322-the-grapes-of-wrath',\n",
       " 'https://www.goodreads.com/book/show/320.One_Hundred_Years_of_Solitude',\n",
       " 'https://www.goodreads.com/book/show/128029.A_Thousand_Splendid_Suns',\n",
       " 'https://www.goodreads.com/book/show/30119.Where_the_Sidewalk_Ends',\n",
       " 'https://www.goodreads.com/book/show/8127.Anne_of_Green_Gables',\n",
       " 'https://www.goodreads.com/book/show/19543.Where_the_Wild_Things_Are',\n",
       " 'https://www.goodreads.com/book/show/375802.Ender_s_Game',\n",
       " 'https://www.goodreads.com/book/show/24583.The_Adventures_of_Tom_Sawyer',\n",
       " 'https://www.goodreads.com/book/show/1953.A_Tale_of_Two_Cities',\n",
       " 'https://www.goodreads.com/book/show/7126.The_Count_of_Monte_Cristo',\n",
       " 'https://www.goodreads.com/book/show/4214.Life_of_Pi',\n",
       " 'https://www.goodreads.com/book/show/332613.One_Flew_Over_the_Cuckoo_s_Nest',\n",
       " 'https://www.goodreads.com/book/show/191139.Oh_the_Places_You_ll_Go_',\n",
       " 'https://www.goodreads.com/book/show/15823480-anna-karenina',\n",
       " 'https://www.goodreads.com/book/show/36576608-flowers-for-algernon',\n",
       " 'https://www.goodreads.com/book/show/35031085-frankenstein',\n",
       " 'https://www.goodreads.com/book/show/99107.Winnie_the_Pooh',\n",
       " 'https://www.goodreads.com/book/show/38447.The_Handmaid_s_Tale',\n",
       " 'https://www.goodreads.com/book/show/6900.Tuesdays_with_Morrie',\n",
       " 'https://www.goodreads.com/book/show/34.The_Fellowship_of_the_Ring',\n",
       " 'https://www.goodreads.com/book/show/4981.Slaughterhouse_Five',\n",
       " 'https://www.goodreads.com/book/show/168668.Catch_22',\n",
       " 'https://www.goodreads.com/book/show/2165.The_Old_Man_and_the_Sea',\n",
       " 'https://www.goodreads.com/book/show/12296.The_Scarlet_Letter',\n",
       " 'https://www.goodreads.com/book/show/8852.Macbeth',\n",
       " 'https://www.goodreads.com/book/show/41865.Twilight',\n",
       " 'https://www.goodreads.com/book/show/7604.Lolita',\n",
       " 'https://www.goodreads.com/book/show/18619684-the-time-traveler-s-wife',\n",
       " 'https://www.goodreads.com/book/show/52036.Siddhartha',\n",
       " 'https://www.goodreads.com/book/show/485894.The_Metamorphosis',\n",
       " 'https://www.goodreads.com/book/show/49552.The_Stranger',\n",
       " 'https://www.goodreads.com/book/show/32929.Goodnight_Moon',\n",
       " 'https://www.goodreads.com/book/show/14891.A_Tree_Grows_in_Brooklyn',\n",
       " 'https://www.goodreads.com/book/show/656.War_and_Peace',\n",
       " 'https://www.goodreads.com/book/show/114345.The_Little_House_Collection',\n",
       " 'https://www.goodreads.com/book/show/41817486-a-clockwork-orange',\n",
       " 'https://www.goodreads.com/book/show/15881.Harry_Potter_and_the_Chamber_of_Secrets',\n",
       " 'https://www.goodreads.com/book/show/355697.All_Quiet_on_the_Western_Front',\n",
       " 'https://www.goodreads.com/book/show/149267.The_Stand',\n",
       " 'https://www.goodreads.com/book/show/46787.Uncle_Tom_s_Cabin',\n",
       " 'https://www.goodreads.com/book/show/3836.Don_Quixote',\n",
       " 'https://www.goodreads.com/book/show/646462._',\n",
       " 'https://www.goodreads.com/book/show/662.Atlas_Shrugged',\n",
       " 'https://www.goodreads.com/book/show/4934.The_Brothers_Karamazov',\n",
       " 'https://www.goodreads.com/book/show/323355.The_Book_of_Mormon',\n",
       " 'https://www.goodreads.com/book/show/7244.The_Poisonwood_Bible',\n",
       " 'https://www.goodreads.com/book/show/153747.Moby_Dick_or_the_Whale',\n",
       " 'https://www.goodreads.com/book/show/13214.I_Know_Why_the_Caged_Bird_Sings']"
      ]
     },
     "execution_count": 82,
     "metadata": {},
     "output_type": "execute_result"
    }
   ],
   "source": [
    "# combine_url_parts(links_pt2)"
   ]
  },
  {
   "cell_type": "code",
   "execution_count": null,
   "metadata": {},
   "outputs": [],
   "source": []
  }
 ],
 "metadata": {
  "kernelspec": {
   "display_name": "Python 3",
   "language": "python",
   "name": "python3"
  },
  "language_info": {
   "codemirror_mode": {
    "name": "ipython",
    "version": 3
   },
   "file_extension": ".py",
   "mimetype": "text/x-python",
   "name": "python",
   "nbconvert_exporter": "python",
   "pygments_lexer": "ipython3",
   "version": "3.7.9"
  }
 },
 "nbformat": 4,
 "nbformat_minor": 4
}
