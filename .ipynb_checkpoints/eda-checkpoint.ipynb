{
 "cells": [
  {
   "cell_type": "code",
   "execution_count": 4,
   "metadata": {},
   "outputs": [],
   "source": [
    "import pandas as pd\n",
    "import numpy as np\n",
    "import matplotlib.pyplot as plt\n",
    "%matplotlib inline\n",
    "# Make plots look nice\n",
    "plt.style.use('ggplot')\n",
    "import scipy.stats as stats"
   ]
  },
  {
   "cell_type": "code",
   "execution_count": 5,
   "metadata": {},
   "outputs": [],
   "source": [
    "data = pd.read_csv('data/data_set.csv')"
   ]
  },
  {
   "cell_type": "markdown",
   "metadata": {},
   "source": [
    "**Overall**"
   ]
  },
  {
   "cell_type": "code",
   "execution_count": 6,
   "metadata": {
    "scrolled": true
   },
   "outputs": [
    {
     "name": "stdout",
     "output_type": "stream",
     "text": [
      "<class 'pandas.core.frame.DataFrame'>\n",
      "RangeIndex: 8800 entries, 0 to 8799\n",
      "Data columns (total 15 columns):\n",
      " #   Column              Non-Null Count  Dtype  \n",
      "---  ------              --------------  -----  \n",
      " 0   rank                8800 non-null   int64  \n",
      " 1   title               8800 non-null   object \n",
      " 2   author              8800 non-null   object \n",
      " 3   format              8624 non-null   object \n",
      " 4   pages               8396 non-null   object \n",
      " 5   rating              8800 non-null   float64\n",
      " 6   score               8800 non-null   int64  \n",
      " 7   votes               8800 non-null   int64  \n",
      " 8   release_date        5380 non-null   object \n",
      " 9   new_release_date    8698 non-null   object \n",
      " 10  cnt_ratings         8800 non-null   int64  \n",
      " 11  sufficient_ratings  8800 non-null   int64  \n",
      " 12  sufficient_votes    8800 non-null   int64  \n",
      " 13  sufficient_data     8800 non-null   int64  \n",
      " 14  high_rank           8800 non-null   int64  \n",
      "dtypes: float64(1), int64(8), object(6)\n",
      "memory usage: 1.0+ MB\n"
     ]
    }
   ],
   "source": [
    "data.info()"
   ]
  },
  {
   "cell_type": "code",
   "execution_count": 7,
   "metadata": {},
   "outputs": [
    {
     "data": {
      "text/html": [
       "<div>\n",
       "<style scoped>\n",
       "    .dataframe tbody tr th:only-of-type {\n",
       "        vertical-align: middle;\n",
       "    }\n",
       "\n",
       "    .dataframe tbody tr th {\n",
       "        vertical-align: top;\n",
       "    }\n",
       "\n",
       "    .dataframe thead th {\n",
       "        text-align: right;\n",
       "    }\n",
       "</style>\n",
       "<table border=\"1\" class=\"dataframe\">\n",
       "  <thead>\n",
       "    <tr style=\"text-align: right;\">\n",
       "      <th></th>\n",
       "      <th>rank</th>\n",
       "      <th>rating</th>\n",
       "      <th>score</th>\n",
       "      <th>votes</th>\n",
       "      <th>cnt_ratings</th>\n",
       "      <th>sufficient_ratings</th>\n",
       "      <th>sufficient_votes</th>\n",
       "      <th>sufficient_data</th>\n",
       "      <th>high_rank</th>\n",
       "    </tr>\n",
       "  </thead>\n",
       "  <tbody>\n",
       "    <tr>\n",
       "      <th>count</th>\n",
       "      <td>8800.000000</td>\n",
       "      <td>8800.000000</td>\n",
       "      <td>8.800000e+03</td>\n",
       "      <td>8800.000000</td>\n",
       "      <td>8.800000e+03</td>\n",
       "      <td>8800.000000</td>\n",
       "      <td>8800.000000</td>\n",
       "      <td>8800.000000</td>\n",
       "      <td>8800.000000</td>\n",
       "    </tr>\n",
       "    <tr>\n",
       "      <th>mean</th>\n",
       "      <td>4207.279318</td>\n",
       "      <td>4.070920</td>\n",
       "      <td>7.008951e+03</td>\n",
       "      <td>80.614318</td>\n",
       "      <td>7.756674e+04</td>\n",
       "      <td>0.934886</td>\n",
       "      <td>0.795455</td>\n",
       "      <td>0.783523</td>\n",
       "      <td>0.500455</td>\n",
       "    </tr>\n",
       "    <tr>\n",
       "      <th>std</th>\n",
       "      <td>2284.633324</td>\n",
       "      <td>0.379273</td>\n",
       "      <td>6.079181e+04</td>\n",
       "      <td>642.707328</td>\n",
       "      <td>2.765112e+05</td>\n",
       "      <td>0.246740</td>\n",
       "      <td>0.403392</td>\n",
       "      <td>0.411867</td>\n",
       "      <td>0.500028</td>\n",
       "    </tr>\n",
       "    <tr>\n",
       "      <th>min</th>\n",
       "      <td>1.000000</td>\n",
       "      <td>0.000000</td>\n",
       "      <td>1.000000e+02</td>\n",
       "      <td>1.000000</td>\n",
       "      <td>0.000000e+00</td>\n",
       "      <td>0.000000</td>\n",
       "      <td>0.000000</td>\n",
       "      <td>0.000000</td>\n",
       "      <td>0.000000</td>\n",
       "    </tr>\n",
       "    <tr>\n",
       "      <th>25%</th>\n",
       "      <td>2200.000000</td>\n",
       "      <td>3.880000</td>\n",
       "      <td>1.350000e+02</td>\n",
       "      <td>2.000000</td>\n",
       "      <td>2.220000e+02</td>\n",
       "      <td>1.000000</td>\n",
       "      <td>1.000000</td>\n",
       "      <td>1.000000</td>\n",
       "      <td>0.000000</td>\n",
       "    </tr>\n",
       "    <tr>\n",
       "      <th>50%</th>\n",
       "      <td>4398.000000</td>\n",
       "      <td>4.080000</td>\n",
       "      <td>2.300000e+02</td>\n",
       "      <td>3.000000</td>\n",
       "      <td>1.126000e+04</td>\n",
       "      <td>1.000000</td>\n",
       "      <td>1.000000</td>\n",
       "      <td>1.000000</td>\n",
       "      <td>1.000000</td>\n",
       "    </tr>\n",
       "    <tr>\n",
       "      <th>75%</th>\n",
       "      <td>6589.000000</td>\n",
       "      <td>4.270000</td>\n",
       "      <td>6.470000e+02</td>\n",
       "      <td>8.000000</td>\n",
       "      <td>5.740775e+04</td>\n",
       "      <td>1.000000</td>\n",
       "      <td>1.000000</td>\n",
       "      <td>1.000000</td>\n",
       "      <td>1.000000</td>\n",
       "    </tr>\n",
       "    <tr>\n",
       "      <th>max</th>\n",
       "      <td>6990.000000</td>\n",
       "      <td>5.000000</td>\n",
       "      <td>2.314743e+06</td>\n",
       "      <td>23465.000000</td>\n",
       "      <td>7.049026e+06</td>\n",
       "      <td>1.000000</td>\n",
       "      <td>1.000000</td>\n",
       "      <td>1.000000</td>\n",
       "      <td>1.000000</td>\n",
       "    </tr>\n",
       "  </tbody>\n",
       "</table>\n",
       "</div>"
      ],
      "text/plain": [
       "              rank       rating         score         votes   cnt_ratings  \\\n",
       "count  8800.000000  8800.000000  8.800000e+03   8800.000000  8.800000e+03   \n",
       "mean   4207.279318     4.070920  7.008951e+03     80.614318  7.756674e+04   \n",
       "std    2284.633324     0.379273  6.079181e+04    642.707328  2.765112e+05   \n",
       "min       1.000000     0.000000  1.000000e+02      1.000000  0.000000e+00   \n",
       "25%    2200.000000     3.880000  1.350000e+02      2.000000  2.220000e+02   \n",
       "50%    4398.000000     4.080000  2.300000e+02      3.000000  1.126000e+04   \n",
       "75%    6589.000000     4.270000  6.470000e+02      8.000000  5.740775e+04   \n",
       "max    6990.000000     5.000000  2.314743e+06  23465.000000  7.049026e+06   \n",
       "\n",
       "       sufficient_ratings  sufficient_votes  sufficient_data    high_rank  \n",
       "count         8800.000000       8800.000000      8800.000000  8800.000000  \n",
       "mean             0.934886          0.795455         0.783523     0.500455  \n",
       "std              0.246740          0.403392         0.411867     0.500028  \n",
       "min              0.000000          0.000000         0.000000     0.000000  \n",
       "25%              1.000000          1.000000         1.000000     0.000000  \n",
       "50%              1.000000          1.000000         1.000000     1.000000  \n",
       "75%              1.000000          1.000000         1.000000     1.000000  \n",
       "max              1.000000          1.000000         1.000000     1.000000  "
      ]
     },
     "execution_count": 7,
     "metadata": {},
     "output_type": "execute_result"
    }
   ],
   "source": [
    "data.describe()"
   ]
  },
  {
   "cell_type": "code",
   "execution_count": 8,
   "metadata": {},
   "outputs": [
    {
     "data": {
      "text/html": [
       "<div>\n",
       "<style scoped>\n",
       "    .dataframe tbody tr th:only-of-type {\n",
       "        vertical-align: middle;\n",
       "    }\n",
       "\n",
       "    .dataframe tbody tr th {\n",
       "        vertical-align: top;\n",
       "    }\n",
       "\n",
       "    .dataframe thead th {\n",
       "        text-align: right;\n",
       "    }\n",
       "</style>\n",
       "<table border=\"1\" class=\"dataframe\">\n",
       "  <thead>\n",
       "    <tr style=\"text-align: right;\">\n",
       "      <th></th>\n",
       "      <th>rank</th>\n",
       "      <th>title</th>\n",
       "      <th>author</th>\n",
       "      <th>format</th>\n",
       "      <th>pages</th>\n",
       "      <th>rating</th>\n",
       "      <th>score</th>\n",
       "      <th>votes</th>\n",
       "      <th>release_date</th>\n",
       "      <th>new_release_date</th>\n",
       "      <th>cnt_ratings</th>\n",
       "      <th>sufficient_ratings</th>\n",
       "      <th>sufficient_votes</th>\n",
       "      <th>sufficient_data</th>\n",
       "      <th>high_rank</th>\n",
       "    </tr>\n",
       "  </thead>\n",
       "  <tbody>\n",
       "    <tr>\n",
       "      <th>0</th>\n",
       "      <td>1</td>\n",
       "      <td>To Kill a Mockingbird</td>\n",
       "      <td>Harper Lee</td>\n",
       "      <td>Paperback</td>\n",
       "      <td>324 pages</td>\n",
       "      <td>4.28</td>\n",
       "      <td>2314743</td>\n",
       "      <td>23465</td>\n",
       "      <td>(first published July 11th 1960)</td>\n",
       "      <td>Published\\n        May 23rd 2006\\n         by ...</td>\n",
       "      <td>4501075</td>\n",
       "      <td>1</td>\n",
       "      <td>1</td>\n",
       "      <td>1</td>\n",
       "      <td>1</td>\n",
       "    </tr>\n",
       "    <tr>\n",
       "      <th>1</th>\n",
       "      <td>2</td>\n",
       "      <td>Harry Potter and the Sorcerer's Stone (Harry P...</td>\n",
       "      <td>J.K. Rowling</td>\n",
       "      <td>Hardcover</td>\n",
       "      <td>309 pages</td>\n",
       "      <td>4.47</td>\n",
       "      <td>1776963</td>\n",
       "      <td>18119</td>\n",
       "      <td>(first published June 26th 1997)</td>\n",
       "      <td>Published\\n        November 1st 2003\\n        ...</td>\n",
       "      <td>7049026</td>\n",
       "      <td>1</td>\n",
       "      <td>1</td>\n",
       "      <td>1</td>\n",
       "      <td>1</td>\n",
       "    </tr>\n",
       "    <tr>\n",
       "      <th>2</th>\n",
       "      <td>3</td>\n",
       "      <td>1984</td>\n",
       "      <td>George Orwell</td>\n",
       "      <td>Kindle Edition</td>\n",
       "      <td>237 pages</td>\n",
       "      <td>4.19</td>\n",
       "      <td>1645480</td>\n",
       "      <td>16814</td>\n",
       "      <td>(first published June 8th 1949)</td>\n",
       "      <td>Published\\n        September 3rd 2013\\n       ...</td>\n",
       "      <td>3140442</td>\n",
       "      <td>1</td>\n",
       "      <td>1</td>\n",
       "      <td>1</td>\n",
       "      <td>1</td>\n",
       "    </tr>\n",
       "    <tr>\n",
       "      <th>3</th>\n",
       "      <td>4</td>\n",
       "      <td>Pride and Prejudice</td>\n",
       "      <td>Jane Austen</td>\n",
       "      <td>Paperback</td>\n",
       "      <td>279 pages</td>\n",
       "      <td>4.26</td>\n",
       "      <td>1417523</td>\n",
       "      <td>14515</td>\n",
       "      <td>(first published January 28th 1813)</td>\n",
       "      <td>Published\\n        October 10th 2000\\n        ...</td>\n",
       "      <td>2998241</td>\n",
       "      <td>1</td>\n",
       "      <td>1</td>\n",
       "      <td>1</td>\n",
       "      <td>1</td>\n",
       "    </tr>\n",
       "    <tr>\n",
       "      <th>4</th>\n",
       "      <td>5</td>\n",
       "      <td>The Diary of a Young Girl</td>\n",
       "      <td>Anne Frank</td>\n",
       "      <td>Mass Market Paperback</td>\n",
       "      <td>283 pages</td>\n",
       "      <td>4.15</td>\n",
       "      <td>1349093</td>\n",
       "      <td>13817</td>\n",
       "      <td>(first published June 25th 1947)</td>\n",
       "      <td>Published\\n        July 1993\\n         by Bant...</td>\n",
       "      <td>2741166</td>\n",
       "      <td>1</td>\n",
       "      <td>1</td>\n",
       "      <td>1</td>\n",
       "      <td>1</td>\n",
       "    </tr>\n",
       "  </tbody>\n",
       "</table>\n",
       "</div>"
      ],
      "text/plain": [
       "   rank                                              title         author  \\\n",
       "0     1                              To Kill a Mockingbird     Harper Lee   \n",
       "1     2  Harry Potter and the Sorcerer's Stone (Harry P...   J.K. Rowling   \n",
       "2     3                                               1984  George Orwell   \n",
       "3     4                                Pride and Prejudice    Jane Austen   \n",
       "4     5                          The Diary of a Young Girl     Anne Frank   \n",
       "\n",
       "                  format      pages  rating    score  votes  \\\n",
       "0              Paperback  324 pages    4.28  2314743  23465   \n",
       "1              Hardcover  309 pages    4.47  1776963  18119   \n",
       "2         Kindle Edition  237 pages    4.19  1645480  16814   \n",
       "3              Paperback  279 pages    4.26  1417523  14515   \n",
       "4  Mass Market Paperback  283 pages    4.15  1349093  13817   \n",
       "\n",
       "                          release_date  \\\n",
       "0     (first published July 11th 1960)   \n",
       "1     (first published June 26th 1997)   \n",
       "2      (first published June 8th 1949)   \n",
       "3  (first published January 28th 1813)   \n",
       "4     (first published June 25th 1947)   \n",
       "\n",
       "                                    new_release_date  cnt_ratings  \\\n",
       "0  Published\\n        May 23rd 2006\\n         by ...      4501075   \n",
       "1  Published\\n        November 1st 2003\\n        ...      7049026   \n",
       "2  Published\\n        September 3rd 2013\\n       ...      3140442   \n",
       "3  Published\\n        October 10th 2000\\n        ...      2998241   \n",
       "4  Published\\n        July 1993\\n         by Bant...      2741166   \n",
       "\n",
       "   sufficient_ratings  sufficient_votes  sufficient_data  high_rank  \n",
       "0                   1                 1                1          1  \n",
       "1                   1                 1                1          1  \n",
       "2                   1                 1                1          1  \n",
       "3                   1                 1                1          1  \n",
       "4                   1                 1                1          1  "
      ]
     },
     "execution_count": 8,
     "metadata": {},
     "output_type": "execute_result"
    }
   ],
   "source": [
    "data.head()"
   ]
  },
  {
   "cell_type": "code",
   "execution_count": 9,
   "metadata": {},
   "outputs": [
    {
     "data": {
      "text/html": [
       "<div>\n",
       "<style scoped>\n",
       "    .dataframe tbody tr th:only-of-type {\n",
       "        vertical-align: middle;\n",
       "    }\n",
       "\n",
       "    .dataframe tbody tr th {\n",
       "        vertical-align: top;\n",
       "    }\n",
       "\n",
       "    .dataframe thead th {\n",
       "        text-align: right;\n",
       "    }\n",
       "</style>\n",
       "<table border=\"1\" class=\"dataframe\">\n",
       "  <thead>\n",
       "    <tr style=\"text-align: right;\">\n",
       "      <th></th>\n",
       "      <th>rank</th>\n",
       "      <th>title</th>\n",
       "      <th>author</th>\n",
       "      <th>format</th>\n",
       "      <th>pages</th>\n",
       "      <th>rating</th>\n",
       "      <th>score</th>\n",
       "      <th>votes</th>\n",
       "      <th>release_date</th>\n",
       "      <th>new_release_date</th>\n",
       "      <th>cnt_ratings</th>\n",
       "      <th>sufficient_ratings</th>\n",
       "      <th>sufficient_votes</th>\n",
       "      <th>sufficient_data</th>\n",
       "      <th>high_rank</th>\n",
       "    </tr>\n",
       "  </thead>\n",
       "  <tbody>\n",
       "    <tr>\n",
       "      <th>8795</th>\n",
       "      <td>6990</td>\n",
       "      <td>Hikari Okami: Kitsune Series</td>\n",
       "      <td>Lolah Runda</td>\n",
       "      <td>Paperback</td>\n",
       "      <td>36 pages</td>\n",
       "      <td>3.67</td>\n",
       "      <td>100</td>\n",
       "      <td>1</td>\n",
       "      <td>NaN</td>\n",
       "      <td>Published\\n        August 27th 2015\\n         ...</td>\n",
       "      <td>9</td>\n",
       "      <td>0</td>\n",
       "      <td>0</td>\n",
       "      <td>0</td>\n",
       "      <td>0</td>\n",
       "    </tr>\n",
       "    <tr>\n",
       "      <th>8796</th>\n",
       "      <td>6990</td>\n",
       "      <td>A Carpet of Purple Flowers</td>\n",
       "      <td>Tracey-anne McCartney</td>\n",
       "      <td>Paperback</td>\n",
       "      <td>360 pages</td>\n",
       "      <td>4.10</td>\n",
       "      <td>100</td>\n",
       "      <td>1</td>\n",
       "      <td>NaN</td>\n",
       "      <td>Published\\n        October 17th 2015\\n        ...</td>\n",
       "      <td>51</td>\n",
       "      <td>1</td>\n",
       "      <td>0</td>\n",
       "      <td>0</td>\n",
       "      <td>0</td>\n",
       "    </tr>\n",
       "    <tr>\n",
       "      <th>8797</th>\n",
       "      <td>6990</td>\n",
       "      <td>Practical Poems For Everyday Use: Poetry With ...</td>\n",
       "      <td>Madeline Lee</td>\n",
       "      <td>Kindle Edition</td>\n",
       "      <td>68 pages</td>\n",
       "      <td>5.00</td>\n",
       "      <td>100</td>\n",
       "      <td>1</td>\n",
       "      <td>NaN</td>\n",
       "      <td>Published\\n        October 27th 2015</td>\n",
       "      <td>3</td>\n",
       "      <td>0</td>\n",
       "      <td>0</td>\n",
       "      <td>0</td>\n",
       "      <td>0</td>\n",
       "    </tr>\n",
       "    <tr>\n",
       "      <th>8798</th>\n",
       "      <td>6990</td>\n",
       "      <td>The Tao of Twitter, Revised and Expanded New E...</td>\n",
       "      <td>Mark W. Schaefer</td>\n",
       "      <td>ebook</td>\n",
       "      <td>224 pages</td>\n",
       "      <td>4.17</td>\n",
       "      <td>100</td>\n",
       "      <td>1</td>\n",
       "      <td>NaN</td>\n",
       "      <td>Published\\n        August 1st 2014\\n         b...</td>\n",
       "      <td>66</td>\n",
       "      <td>1</td>\n",
       "      <td>0</td>\n",
       "      <td>0</td>\n",
       "      <td>0</td>\n",
       "    </tr>\n",
       "    <tr>\n",
       "      <th>8799</th>\n",
       "      <td>6990</td>\n",
       "      <td>\"Mud Marbles\"</td>\n",
       "      <td>Tolar Miles</td>\n",
       "      <td>Paperback</td>\n",
       "      <td>164 pages</td>\n",
       "      <td>4.00</td>\n",
       "      <td>100</td>\n",
       "      <td>1</td>\n",
       "      <td>NaN</td>\n",
       "      <td>Published\\n        October 20th 2014\\n        ...</td>\n",
       "      <td>11</td>\n",
       "      <td>1</td>\n",
       "      <td>0</td>\n",
       "      <td>0</td>\n",
       "      <td>0</td>\n",
       "    </tr>\n",
       "  </tbody>\n",
       "</table>\n",
       "</div>"
      ],
      "text/plain": [
       "      rank                                              title  \\\n",
       "8795  6990                       Hikari Okami: Kitsune Series   \n",
       "8796  6990                         A Carpet of Purple Flowers   \n",
       "8797  6990  Practical Poems For Everyday Use: Poetry With ...   \n",
       "8798  6990  The Tao of Twitter, Revised and Expanded New E...   \n",
       "8799  6990                                      \"Mud Marbles\"   \n",
       "\n",
       "                     author          format      pages  rating  score  votes  \\\n",
       "8795            Lolah Runda       Paperback   36 pages    3.67    100      1   \n",
       "8796  Tracey-anne McCartney       Paperback  360 pages    4.10    100      1   \n",
       "8797           Madeline Lee  Kindle Edition   68 pages    5.00    100      1   \n",
       "8798       Mark W. Schaefer           ebook  224 pages    4.17    100      1   \n",
       "8799            Tolar Miles       Paperback  164 pages    4.00    100      1   \n",
       "\n",
       "     release_date                                   new_release_date  \\\n",
       "8795          NaN  Published\\n        August 27th 2015\\n         ...   \n",
       "8796          NaN  Published\\n        October 17th 2015\\n        ...   \n",
       "8797          NaN               Published\\n        October 27th 2015   \n",
       "8798          NaN  Published\\n        August 1st 2014\\n         b...   \n",
       "8799          NaN  Published\\n        October 20th 2014\\n        ...   \n",
       "\n",
       "      cnt_ratings  sufficient_ratings  sufficient_votes  sufficient_data  \\\n",
       "8795            9                   0                 0                0   \n",
       "8796           51                   1                 0                0   \n",
       "8797            3                   0                 0                0   \n",
       "8798           66                   1                 0                0   \n",
       "8799           11                   1                 0                0   \n",
       "\n",
       "      high_rank  \n",
       "8795          0  \n",
       "8796          0  \n",
       "8797          0  \n",
       "8798          0  \n",
       "8799          0  "
      ]
     },
     "execution_count": 9,
     "metadata": {},
     "output_type": "execute_result"
    }
   ],
   "source": [
    "data.tail()"
   ]
  },
  {
   "cell_type": "code",
   "execution_count": 10,
   "metadata": {},
   "outputs": [
    {
     "data": {
      "image/png": "[encoded data removed]",
      "text/plain": [
       "<Figure size 576x360 with 1 Axes>"
      ]
     },
     "metadata": {},
     "output_type": "display_data"
    }
   ],
   "source": [
    "fig, ax = plt.subplots(figsize=(8,5))\n",
    "ax.hist(data['rating'], bins=50)\n",
    "ax.axvline(data['rating'].mean(), color='black', linestyle='--')\n",
    "plt.title('All Ratings Histogram')\n",
    "plt.xlabel('Ratings')\n",
    "plt.ylabel('Frequency')\n",
    "ax.text(2.1, 1220, 'Mean = 4.071', fontsize = 15)\n",
    "plt.savefig('img/all_ratings_histogram')"
   ]
  },
  {
   "cell_type": "code",
   "execution_count": 11,
   "metadata": {
    "scrolled": true
   },
   "outputs": [
    {
     "data": {
      "text/html": [
       "<div>\n",
       "<style scoped>\n",
       "    .dataframe tbody tr th:only-of-type {\n",
       "        vertical-align: middle;\n",
       "    }\n",
       "\n",
       "    .dataframe tbody tr th {\n",
       "        vertical-align: top;\n",
       "    }\n",
       "\n",
       "    .dataframe thead th {\n",
       "        text-align: right;\n",
       "    }\n",
       "</style>\n",
       "<table border=\"1\" class=\"dataframe\">\n",
       "  <thead>\n",
       "    <tr style=\"text-align: right;\">\n",
       "      <th></th>\n",
       "      <th>rank</th>\n",
       "      <th>title</th>\n",
       "      <th>author</th>\n",
       "      <th>format</th>\n",
       "      <th>pages</th>\n",
       "      <th>rating</th>\n",
       "      <th>score</th>\n",
       "      <th>votes</th>\n",
       "      <th>release_date</th>\n",
       "      <th>new_release_date</th>\n",
       "      <th>cnt_ratings</th>\n",
       "      <th>sufficient_ratings</th>\n",
       "      <th>sufficient_votes</th>\n",
       "      <th>sufficient_data</th>\n",
       "      <th>high_rank</th>\n",
       "    </tr>\n",
       "  </thead>\n",
       "  <tbody>\n",
       "    <tr>\n",
       "      <th>2327</th>\n",
       "      <td>2327</td>\n",
       "      <td>Revealing Eden (Save the Pearls, #1)</td>\n",
       "      <td>Victoria Foyt</td>\n",
       "      <td>Hardcover</td>\n",
       "      <td>307 pages</td>\n",
       "      <td>1.99</td>\n",
       "      <td>594</td>\n",
       "      <td>6</td>\n",
       "      <td>(first published October 1st 2011)</td>\n",
       "      <td>Published\\n        January 10th 2012\\n        ...</td>\n",
       "      <td>917</td>\n",
       "      <td>1</td>\n",
       "      <td>1</td>\n",
       "      <td>1</td>\n",
       "      <td>1</td>\n",
       "    </tr>\n",
       "    <tr>\n",
       "      <th>3119</th>\n",
       "      <td>3120</td>\n",
       "      <td>Pygmy</td>\n",
       "      <td>Chuck Palahniuk</td>\n",
       "      <td>Hardcover</td>\n",
       "      <td>255 pages</td>\n",
       "      <td>2.97</td>\n",
       "      <td>378</td>\n",
       "      <td>5</td>\n",
       "      <td>NaN</td>\n",
       "      <td>Published\\n        May 5th 2009\\n         by D...</td>\n",
       "      <td>26957</td>\n",
       "      <td>1</td>\n",
       "      <td>1</td>\n",
       "      <td>1</td>\n",
       "      <td>1</td>\n",
       "    </tr>\n",
       "    <tr>\n",
       "      <th>3584</th>\n",
       "      <td>3558</td>\n",
       "      <td>Her Beauty</td>\n",
       "      <td>M.R. Desmond</td>\n",
       "      <td>Kindle Edition</td>\n",
       "      <td>30 pages</td>\n",
       "      <td>0.00</td>\n",
       "      <td>300</td>\n",
       "      <td>3</td>\n",
       "      <td>NaN</td>\n",
       "      <td>Published\\n        September 3rd 2018</td>\n",
       "      <td>0</td>\n",
       "      <td>0</td>\n",
       "      <td>1</td>\n",
       "      <td>0</td>\n",
       "      <td>1</td>\n",
       "    </tr>\n",
       "    <tr>\n",
       "      <th>3682</th>\n",
       "      <td>3666</td>\n",
       "      <td>تراژدی اسبی که ایستاد</td>\n",
       "      <td>روح اله سهرابی</td>\n",
       "      <td>Paperback</td>\n",
       "      <td>200 pages</td>\n",
       "      <td>1.92</td>\n",
       "      <td>294</td>\n",
       "      <td>3</td>\n",
       "      <td>(first published January 2nd 2013)</td>\n",
       "      <td>Published\\n        January 1st 2017\\n         ...</td>\n",
       "      <td>280</td>\n",
       "      <td>1</td>\n",
       "      <td>1</td>\n",
       "      <td>1</td>\n",
       "      <td>1</td>\n",
       "    </tr>\n",
       "    <tr>\n",
       "      <th>4723</th>\n",
       "      <td>4586</td>\n",
       "      <td>They Called Me Wyatt</td>\n",
       "      <td>Natasha Tynes</td>\n",
       "      <td>ebook</td>\n",
       "      <td>280 pages</td>\n",
       "      <td>1.61</td>\n",
       "      <td>200</td>\n",
       "      <td>2</td>\n",
       "      <td>NaN</td>\n",
       "      <td>Published\\n        June 11th 2019\\n         by...</td>\n",
       "      <td>2388</td>\n",
       "      <td>1</td>\n",
       "      <td>1</td>\n",
       "      <td>1</td>\n",
       "      <td>0</td>\n",
       "    </tr>\n",
       "    <tr>\n",
       "      <th>4749</th>\n",
       "      <td>4586</td>\n",
       "      <td>Living The Dream: My Life With Horses</td>\n",
       "      <td>Andrew Reeves</td>\n",
       "      <td>Kindle Edition</td>\n",
       "      <td>NaN</td>\n",
       "      <td>0.00</td>\n",
       "      <td>200</td>\n",
       "      <td>2</td>\n",
       "      <td>NaN</td>\n",
       "      <td>Published\\n        July 29th 2020</td>\n",
       "      <td>0</td>\n",
       "      <td>0</td>\n",
       "      <td>1</td>\n",
       "      <td>0</td>\n",
       "      <td>0</td>\n",
       "    </tr>\n",
       "    <tr>\n",
       "      <th>4893</th>\n",
       "      <td>4830</td>\n",
       "      <td>Judges: When The Light Lay Still</td>\n",
       "      <td>Charles J. Eskew</td>\n",
       "      <td>Kindle Edition</td>\n",
       "      <td>137 pages</td>\n",
       "      <td>2.94</td>\n",
       "      <td>198</td>\n",
       "      <td>2</td>\n",
       "      <td>NaN</td>\n",
       "      <td>Published\\n        February 13th 2019\\n       ...</td>\n",
       "      <td>31</td>\n",
       "      <td>1</td>\n",
       "      <td>1</td>\n",
       "      <td>1</td>\n",
       "      <td>0</td>\n",
       "    </tr>\n",
       "    <tr>\n",
       "      <th>4965</th>\n",
       "      <td>4958</td>\n",
       "      <td>One Night at the Call Center</td>\n",
       "      <td>Chetan Bhagat</td>\n",
       "      <td>Paperback</td>\n",
       "      <td>320 pages</td>\n",
       "      <td>2.51</td>\n",
       "      <td>196</td>\n",
       "      <td>2</td>\n",
       "      <td>(first published 2005)</td>\n",
       "      <td>Published\\n        May 1st 2007\\n         by B...</td>\n",
       "      <td>54236</td>\n",
       "      <td>1</td>\n",
       "      <td>1</td>\n",
       "      <td>1</td>\n",
       "      <td>0</td>\n",
       "    </tr>\n",
       "    <tr>\n",
       "      <th>5444</th>\n",
       "      <td>5441</td>\n",
       "      <td>Dianetics: The Modern Science of Mental Health</td>\n",
       "      <td>L. Ron Hubbard</td>\n",
       "      <td>Paperback</td>\n",
       "      <td>591 pages</td>\n",
       "      <td>2.39</td>\n",
       "      <td>187</td>\n",
       "      <td>2</td>\n",
       "      <td>(first published January 1st 1950)</td>\n",
       "      <td>Published\\n        November 28th 2002\\n       ...</td>\n",
       "      <td>2889</td>\n",
       "      <td>1</td>\n",
       "      <td>1</td>\n",
       "      <td>1</td>\n",
       "      <td>0</td>\n",
       "    </tr>\n",
       "    <tr>\n",
       "      <th>6845</th>\n",
       "      <td>6839</td>\n",
       "      <td>Tell-All</td>\n",
       "      <td>Chuck Palahniuk</td>\n",
       "      <td>Hardcover</td>\n",
       "      <td>192 pages</td>\n",
       "      <td>2.86</td>\n",
       "      <td>112</td>\n",
       "      <td>2</td>\n",
       "      <td>NaN</td>\n",
       "      <td>Published\\n        May 4th 2010\\n         by D...</td>\n",
       "      <td>12658</td>\n",
       "      <td>1</td>\n",
       "      <td>1</td>\n",
       "      <td>1</td>\n",
       "      <td>0</td>\n",
       "    </tr>\n",
       "    <tr>\n",
       "      <th>7090</th>\n",
       "      <td>6990</td>\n",
       "      <td>Murphy Blue</td>\n",
       "      <td>Linda Hahn</td>\n",
       "      <td>ebook</td>\n",
       "      <td>27500 pages</td>\n",
       "      <td>0.00</td>\n",
       "      <td>100</td>\n",
       "      <td>1</td>\n",
       "      <td>NaN</td>\n",
       "      <td>Published\\n        December 15th 2010\\n       ...</td>\n",
       "      <td>0</td>\n",
       "      <td>0</td>\n",
       "      <td>0</td>\n",
       "      <td>0</td>\n",
       "      <td>0</td>\n",
       "    </tr>\n",
       "    <tr>\n",
       "      <th>7142</th>\n",
       "      <td>6990</td>\n",
       "      <td>Reconsider Me: My Life And Times With Warren Z...</td>\n",
       "      <td>Rae   Murphy</td>\n",
       "      <td>Paperback</td>\n",
       "      <td>100 pages</td>\n",
       "      <td>2.88</td>\n",
       "      <td>100</td>\n",
       "      <td>1</td>\n",
       "      <td>NaN</td>\n",
       "      <td>Published\\n        May 19th 2011\\n         by ...</td>\n",
       "      <td>8</td>\n",
       "      <td>0</td>\n",
       "      <td>0</td>\n",
       "      <td>0</td>\n",
       "      <td>0</td>\n",
       "    </tr>\n",
       "    <tr>\n",
       "      <th>7166</th>\n",
       "      <td>6990</td>\n",
       "      <td>Princess Diana - The Day She Didn't Die</td>\n",
       "      <td>Heath Samples</td>\n",
       "      <td>Kindle Edition</td>\n",
       "      <td>NaN</td>\n",
       "      <td>2.84</td>\n",
       "      <td>100</td>\n",
       "      <td>1</td>\n",
       "      <td>(first published October 13th 2011)</td>\n",
       "      <td>Published\\n        \\n        \\n\\n            \\...</td>\n",
       "      <td>57</td>\n",
       "      <td>1</td>\n",
       "      <td>0</td>\n",
       "      <td>0</td>\n",
       "      <td>0</td>\n",
       "    </tr>\n",
       "    <tr>\n",
       "      <th>7176</th>\n",
       "      <td>6990</td>\n",
       "      <td>My Life and Spiritual Journey: From Tragedy to...</td>\n",
       "      <td>Marshall Shearer</td>\n",
       "      <td>Kindle Edition</td>\n",
       "      <td>154 pages</td>\n",
       "      <td>0.00</td>\n",
       "      <td>100</td>\n",
       "      <td>1</td>\n",
       "      <td>(first published July 29th 2011)</td>\n",
       "      <td>Published\\n        \\n        \\n\\n            \\...</td>\n",
       "      <td>0</td>\n",
       "      <td>0</td>\n",
       "      <td>0</td>\n",
       "      <td>0</td>\n",
       "      <td>0</td>\n",
       "    </tr>\n",
       "    <tr>\n",
       "      <th>7287</th>\n",
       "      <td>6990</td>\n",
       "      <td>Rayvon Works</td>\n",
       "      <td>Rayvon L. Browne</td>\n",
       "      <td>Paperback</td>\n",
       "      <td>53 pages</td>\n",
       "      <td>0.00</td>\n",
       "      <td>100</td>\n",
       "      <td>1</td>\n",
       "      <td>NaN</td>\n",
       "      <td>Published\\n        2012\\n         by RLB Produ...</td>\n",
       "      <td>0</td>\n",
       "      <td>0</td>\n",
       "      <td>0</td>\n",
       "      <td>0</td>\n",
       "      <td>0</td>\n",
       "    </tr>\n",
       "    <tr>\n",
       "      <th>7421</th>\n",
       "      <td>6990</td>\n",
       "      <td>Moving Back To Normal</td>\n",
       "      <td>Sara Webb Quest (S.W. Quest)</td>\n",
       "      <td>Paperback</td>\n",
       "      <td>188 pages</td>\n",
       "      <td>2.50</td>\n",
       "      <td>100</td>\n",
       "      <td>1</td>\n",
       "      <td>(first published November 15th 2011)</td>\n",
       "      <td>Published\\n        December 2011\\n         by ...</td>\n",
       "      <td>2</td>\n",
       "      <td>0</td>\n",
       "      <td>0</td>\n",
       "      <td>0</td>\n",
       "      <td>0</td>\n",
       "    </tr>\n",
       "    <tr>\n",
       "      <th>7534</th>\n",
       "      <td>6990</td>\n",
       "      <td>Writing to the Prompt: When Students Don't Hav...</td>\n",
       "      <td>Janet Angelillo</td>\n",
       "      <td>Paperback</td>\n",
       "      <td>166 pages</td>\n",
       "      <td>2.75</td>\n",
       "      <td>100</td>\n",
       "      <td>1</td>\n",
       "      <td>NaN</td>\n",
       "      <td>Published\\n        September 1st 2005\\n       ...</td>\n",
       "      <td>12</td>\n",
       "      <td>1</td>\n",
       "      <td>0</td>\n",
       "      <td>0</td>\n",
       "      <td>0</td>\n",
       "    </tr>\n",
       "    <tr>\n",
       "      <th>7620</th>\n",
       "      <td>6990</td>\n",
       "      <td>Half-Sick Of Shadows</td>\n",
       "      <td>David  Logan</td>\n",
       "      <td>Hardcover</td>\n",
       "      <td>304 pages</td>\n",
       "      <td>2.81</td>\n",
       "      <td>100</td>\n",
       "      <td>1</td>\n",
       "      <td>NaN</td>\n",
       "      <td>Published\\n        May 10th 2012\\n         by ...</td>\n",
       "      <td>177</td>\n",
       "      <td>1</td>\n",
       "      <td>0</td>\n",
       "      <td>0</td>\n",
       "      <td>0</td>\n",
       "    </tr>\n",
       "    <tr>\n",
       "      <th>7775</th>\n",
       "      <td>6990</td>\n",
       "      <td>The Girl From Limerick</td>\n",
       "      <td>Maggi Summerhill</td>\n",
       "      <td>Kindle Edition</td>\n",
       "      <td>200 pages</td>\n",
       "      <td>2.50</td>\n",
       "      <td>100</td>\n",
       "      <td>1</td>\n",
       "      <td>(first published May 29th 2013)</td>\n",
       "      <td>Published\\n        May 30th 2013\\n         by ...</td>\n",
       "      <td>2</td>\n",
       "      <td>0</td>\n",
       "      <td>0</td>\n",
       "      <td>0</td>\n",
       "      <td>0</td>\n",
       "    </tr>\n",
       "    <tr>\n",
       "      <th>7827</th>\n",
       "      <td>6990</td>\n",
       "      <td>Come On Inner Peace! I don't have all day!</td>\n",
       "      <td>Sachin Garg</td>\n",
       "      <td>Paperback</td>\n",
       "      <td>NaN</td>\n",
       "      <td>2.91</td>\n",
       "      <td>100</td>\n",
       "      <td>1</td>\n",
       "      <td>(first published January 1st 2013)</td>\n",
       "      <td>Published\\n        April 15th 2013\\n         b...</td>\n",
       "      <td>919</td>\n",
       "      <td>1</td>\n",
       "      <td>0</td>\n",
       "      <td>0</td>\n",
       "      <td>0</td>\n",
       "    </tr>\n",
       "    <tr>\n",
       "      <th>7926</th>\n",
       "      <td>6990</td>\n",
       "      <td>I,Legal in the U.S.A. - a memoir</td>\n",
       "      <td>Alejandra Campos</td>\n",
       "      <td>Paperback</td>\n",
       "      <td>128 pages</td>\n",
       "      <td>0.00</td>\n",
       "      <td>100</td>\n",
       "      <td>1</td>\n",
       "      <td>NaN</td>\n",
       "      <td>Published\\n        July 28th 2013\\n         by...</td>\n",
       "      <td>0</td>\n",
       "      <td>0</td>\n",
       "      <td>0</td>\n",
       "      <td>0</td>\n",
       "      <td>0</td>\n",
       "    </tr>\n",
       "    <tr>\n",
       "      <th>7929</th>\n",
       "      <td>6990</td>\n",
       "      <td>Charms on a Woman's Waist</td>\n",
       "      <td>Aihebholo-oria Okonoboh</td>\n",
       "      <td>Kindle Edition</td>\n",
       "      <td>NaN</td>\n",
       "      <td>0.00</td>\n",
       "      <td>100</td>\n",
       "      <td>1</td>\n",
       "      <td>(first published October 19th 2012)</td>\n",
       "      <td>Published\\n        \\n         by Olefaniel Pub...</td>\n",
       "      <td>0</td>\n",
       "      <td>0</td>\n",
       "      <td>0</td>\n",
       "      <td>0</td>\n",
       "      <td>0</td>\n",
       "    </tr>\n",
       "    <tr>\n",
       "      <th>7941</th>\n",
       "      <td>6990</td>\n",
       "      <td>Charles and Edward: A Modern Day Pretty Woman</td>\n",
       "      <td>Beau Garçon De La Nuit</td>\n",
       "      <td>Kindle Edition</td>\n",
       "      <td>314 pages</td>\n",
       "      <td>2.73</td>\n",
       "      <td>100</td>\n",
       "      <td>1</td>\n",
       "      <td>NaN</td>\n",
       "      <td>Published\\n        September 25th 2013\\n      ...</td>\n",
       "      <td>30</td>\n",
       "      <td>1</td>\n",
       "      <td>0</td>\n",
       "      <td>0</td>\n",
       "      <td>0</td>\n",
       "    </tr>\n",
       "    <tr>\n",
       "      <th>8002</th>\n",
       "      <td>6990</td>\n",
       "      <td>About Love and Joy of Life: The Struggle for S...</td>\n",
       "      <td>Franz Josef Kaps</td>\n",
       "      <td>Paperback</td>\n",
       "      <td>280 pages</td>\n",
       "      <td>0.00</td>\n",
       "      <td>100</td>\n",
       "      <td>1</td>\n",
       "      <td>NaN</td>\n",
       "      <td>Published\\n        October 28th 2013\\n        ...</td>\n",
       "      <td>0</td>\n",
       "      <td>0</td>\n",
       "      <td>0</td>\n",
       "      <td>0</td>\n",
       "      <td>0</td>\n",
       "    </tr>\n",
       "    <tr>\n",
       "      <th>8072</th>\n",
       "      <td>6990</td>\n",
       "      <td>The Sense of a Deity</td>\n",
       "      <td>Cale Rainer</td>\n",
       "      <td>Paperback</td>\n",
       "      <td>108 pages</td>\n",
       "      <td>0.00</td>\n",
       "      <td>100</td>\n",
       "      <td>1</td>\n",
       "      <td>NaN</td>\n",
       "      <td>Published\\n        June 15th 2013\\n         by...</td>\n",
       "      <td>0</td>\n",
       "      <td>0</td>\n",
       "      <td>0</td>\n",
       "      <td>0</td>\n",
       "      <td>0</td>\n",
       "    </tr>\n",
       "    <tr>\n",
       "      <th>8161</th>\n",
       "      <td>6990</td>\n",
       "      <td>Ballochmyle</td>\n",
       "      <td>DIEL</td>\n",
       "      <td>Kindle Edition</td>\n",
       "      <td>375 pages</td>\n",
       "      <td>0.00</td>\n",
       "      <td>100</td>\n",
       "      <td>1</td>\n",
       "      <td>NaN</td>\n",
       "      <td>Published\\n        January 9th 2012</td>\n",
       "      <td>0</td>\n",
       "      <td>0</td>\n",
       "      <td>0</td>\n",
       "      <td>0</td>\n",
       "      <td>0</td>\n",
       "    </tr>\n",
       "    <tr>\n",
       "      <th>8201</th>\n",
       "      <td>6990</td>\n",
       "      <td>The Vision of the Evening and the Morning</td>\n",
       "      <td>John Magallan Lopez</td>\n",
       "      <td>Paperback</td>\n",
       "      <td>56 pages</td>\n",
       "      <td>0.00</td>\n",
       "      <td>100</td>\n",
       "      <td>1</td>\n",
       "      <td>NaN</td>\n",
       "      <td>Published\\n        April 29th 2014\\n         b...</td>\n",
       "      <td>0</td>\n",
       "      <td>0</td>\n",
       "      <td>0</td>\n",
       "      <td>0</td>\n",
       "      <td>0</td>\n",
       "    </tr>\n",
       "    <tr>\n",
       "      <th>8291</th>\n",
       "      <td>6990</td>\n",
       "      <td>Over The Rainbow I Fly</td>\n",
       "      <td>Camilla Stein</td>\n",
       "      <td>Kindle Edition</td>\n",
       "      <td>NaN</td>\n",
       "      <td>0.00</td>\n",
       "      <td>100</td>\n",
       "      <td>1</td>\n",
       "      <td>NaN</td>\n",
       "      <td>NaN</td>\n",
       "      <td>0</td>\n",
       "      <td>0</td>\n",
       "      <td>0</td>\n",
       "      <td>0</td>\n",
       "      <td>0</td>\n",
       "    </tr>\n",
       "    <tr>\n",
       "      <th>8304</th>\n",
       "      <td>6990</td>\n",
       "      <td>The Cowboys and the Indians:  A Wildean Odyssey</td>\n",
       "      <td>T. Notch Thomas</td>\n",
       "      <td>Kindle Edition</td>\n",
       "      <td>268 pages</td>\n",
       "      <td>0.00</td>\n",
       "      <td>100</td>\n",
       "      <td>1</td>\n",
       "      <td>NaN</td>\n",
       "      <td>Published\\n        April 16th 2014</td>\n",
       "      <td>0</td>\n",
       "      <td>0</td>\n",
       "      <td>0</td>\n",
       "      <td>0</td>\n",
       "      <td>0</td>\n",
       "    </tr>\n",
       "    <tr>\n",
       "      <th>8341</th>\n",
       "      <td>6990</td>\n",
       "      <td>The Etiquette of Social Media</td>\n",
       "      <td>Leonard Kim</td>\n",
       "      <td>Paperback</td>\n",
       "      <td>104 pages</td>\n",
       "      <td>2.89</td>\n",
       "      <td>100</td>\n",
       "      <td>1</td>\n",
       "      <td>NaN</td>\n",
       "      <td>Published\\n        August 27th 2014\\n         ...</td>\n",
       "      <td>37</td>\n",
       "      <td>1</td>\n",
       "      <td>0</td>\n",
       "      <td>0</td>\n",
       "      <td>0</td>\n",
       "    </tr>\n",
       "    <tr>\n",
       "      <th>8367</th>\n",
       "      <td>6990</td>\n",
       "      <td>My Father's Eyes: Seeing Yourself Through the ...</td>\n",
       "      <td>Sandra Lott</td>\n",
       "      <td>Paperback</td>\n",
       "      <td>116 pages</td>\n",
       "      <td>0.00</td>\n",
       "      <td>100</td>\n",
       "      <td>1</td>\n",
       "      <td>NaN</td>\n",
       "      <td>Published\\n        December 3rd 2013\\n        ...</td>\n",
       "      <td>0</td>\n",
       "      <td>0</td>\n",
       "      <td>0</td>\n",
       "      <td>0</td>\n",
       "      <td>0</td>\n",
       "    </tr>\n",
       "    <tr>\n",
       "      <th>8447</th>\n",
       "      <td>6990</td>\n",
       "      <td>witchbird</td>\n",
       "      <td>Tony Yarbro</td>\n",
       "      <td>NaN</td>\n",
       "      <td>NaN</td>\n",
       "      <td>0.00</td>\n",
       "      <td>100</td>\n",
       "      <td>1</td>\n",
       "      <td>NaN</td>\n",
       "      <td>NaN</td>\n",
       "      <td>0</td>\n",
       "      <td>0</td>\n",
       "      <td>0</td>\n",
       "      <td>0</td>\n",
       "      <td>0</td>\n",
       "    </tr>\n",
       "    <tr>\n",
       "      <th>8514</th>\n",
       "      <td>6990</td>\n",
       "      <td>A Pefect Mess</td>\n",
       "      <td>Tavares Boykins Sr.</td>\n",
       "      <td>Paperback</td>\n",
       "      <td>268 pages</td>\n",
       "      <td>0.00</td>\n",
       "      <td>100</td>\n",
       "      <td>1</td>\n",
       "      <td>NaN</td>\n",
       "      <td>Published\\n        February 2nd 2015\\n        ...</td>\n",
       "      <td>0</td>\n",
       "      <td>0</td>\n",
       "      <td>0</td>\n",
       "      <td>0</td>\n",
       "      <td>0</td>\n",
       "    </tr>\n",
       "    <tr>\n",
       "      <th>8525</th>\n",
       "      <td>6990</td>\n",
       "      <td>How to Make Her LET GO &amp; GIVE IN: The No-Bulls...</td>\n",
       "      <td>Stan Findus</td>\n",
       "      <td>Kindle Edition</td>\n",
       "      <td>274 pages</td>\n",
       "      <td>2.80</td>\n",
       "      <td>100</td>\n",
       "      <td>1</td>\n",
       "      <td>NaN</td>\n",
       "      <td>Published\\n        February 6th 2015\\n        ...</td>\n",
       "      <td>5</td>\n",
       "      <td>0</td>\n",
       "      <td>0</td>\n",
       "      <td>0</td>\n",
       "      <td>0</td>\n",
       "    </tr>\n",
       "    <tr>\n",
       "      <th>8556</th>\n",
       "      <td>6990</td>\n",
       "      <td>A Guide To To Kill A Mockingbird</td>\n",
       "      <td>Mary Hartley</td>\n",
       "      <td>NaN</td>\n",
       "      <td>NaN</td>\n",
       "      <td>0.00</td>\n",
       "      <td>100</td>\n",
       "      <td>1</td>\n",
       "      <td>NaN</td>\n",
       "      <td>NaN</td>\n",
       "      <td>0</td>\n",
       "      <td>0</td>\n",
       "      <td>0</td>\n",
       "      <td>0</td>\n",
       "      <td>0</td>\n",
       "    </tr>\n",
       "    <tr>\n",
       "      <th>8664</th>\n",
       "      <td>6990</td>\n",
       "      <td>Catharsis</td>\n",
       "      <td>Noorilhuda</td>\n",
       "      <td>Kindle Edition</td>\n",
       "      <td>270 pages</td>\n",
       "      <td>2.84</td>\n",
       "      <td>100</td>\n",
       "      <td>1</td>\n",
       "      <td>(first published July 1st 2015)</td>\n",
       "      <td>Published\\n        July 12th 2015\\n         by...</td>\n",
       "      <td>43</td>\n",
       "      <td>1</td>\n",
       "      <td>0</td>\n",
       "      <td>0</td>\n",
       "      <td>0</td>\n",
       "    </tr>\n",
       "  </tbody>\n",
       "</table>\n",
       "</div>"
      ],
      "text/plain": [
       "      rank                                              title  \\\n",
       "2327  2327               Revealing Eden (Save the Pearls, #1)   \n",
       "3119  3120                                              Pygmy   \n",
       "3584  3558                                         Her Beauty   \n",
       "3682  3666                              تراژدی اسبی که ایستاد   \n",
       "4723  4586                               They Called Me Wyatt   \n",
       "4749  4586              Living The Dream: My Life With Horses   \n",
       "4893  4830                   Judges: When The Light Lay Still   \n",
       "4965  4958                       One Night at the Call Center   \n",
       "5444  5441     Dianetics: The Modern Science of Mental Health   \n",
       "6845  6839                                           Tell-All   \n",
       "7090  6990                                        Murphy Blue   \n",
       "7142  6990  Reconsider Me: My Life And Times With Warren Z...   \n",
       "7166  6990            Princess Diana - The Day She Didn't Die   \n",
       "7176  6990  My Life and Spiritual Journey: From Tragedy to...   \n",
       "7287  6990                                       Rayvon Works   \n",
       "7421  6990                              Moving Back To Normal   \n",
       "7534  6990  Writing to the Prompt: When Students Don't Hav...   \n",
       "7620  6990                               Half-Sick Of Shadows   \n",
       "7775  6990                             The Girl From Limerick   \n",
       "7827  6990         Come On Inner Peace! I don't have all day!   \n",
       "7926  6990                   I,Legal in the U.S.A. - a memoir   \n",
       "7929  6990                          Charms on a Woman's Waist   \n",
       "7941  6990      Charles and Edward: A Modern Day Pretty Woman   \n",
       "8002  6990  About Love and Joy of Life: The Struggle for S...   \n",
       "8072  6990                               The Sense of a Deity   \n",
       "8161  6990                                        Ballochmyle   \n",
       "8201  6990          The Vision of the Evening and the Morning   \n",
       "8291  6990                             Over The Rainbow I Fly   \n",
       "8304  6990    The Cowboys and the Indians:  A Wildean Odyssey   \n",
       "8341  6990                      The Etiquette of Social Media   \n",
       "8367  6990  My Father's Eyes: Seeing Yourself Through the ...   \n",
       "8447  6990                                          witchbird   \n",
       "8514  6990                                      A Pefect Mess   \n",
       "8525  6990  How to Make Her LET GO & GIVE IN: The No-Bulls...   \n",
       "8556  6990                   A Guide To To Kill A Mockingbird   \n",
       "8664  6990                                          Catharsis   \n",
       "\n",
       "                            author          format        pages  rating  \\\n",
       "2327                 Victoria Foyt       Hardcover    307 pages    1.99   \n",
       "3119               Chuck Palahniuk       Hardcover    255 pages    2.97   \n",
       "3584                  M.R. Desmond  Kindle Edition     30 pages    0.00   \n",
       "3682                روح اله سهرابی       Paperback    200 pages    1.92   \n",
       "4723                 Natasha Tynes           ebook    280 pages    1.61   \n",
       "4749                 Andrew Reeves  Kindle Edition          NaN    0.00   \n",
       "4893              Charles J. Eskew  Kindle Edition    137 pages    2.94   \n",
       "4965                 Chetan Bhagat       Paperback    320 pages    2.51   \n",
       "5444                L. Ron Hubbard       Paperback    591 pages    2.39   \n",
       "6845               Chuck Palahniuk       Hardcover    192 pages    2.86   \n",
       "7090                    Linda Hahn           ebook  27500 pages    0.00   \n",
       "7142                  Rae   Murphy       Paperback    100 pages    2.88   \n",
       "7166                 Heath Samples  Kindle Edition          NaN    2.84   \n",
       "7176              Marshall Shearer  Kindle Edition    154 pages    0.00   \n",
       "7287              Rayvon L. Browne       Paperback     53 pages    0.00   \n",
       "7421  Sara Webb Quest (S.W. Quest)       Paperback    188 pages    2.50   \n",
       "7534               Janet Angelillo       Paperback    166 pages    2.75   \n",
       "7620                  David  Logan       Hardcover    304 pages    2.81   \n",
       "7775              Maggi Summerhill  Kindle Edition    200 pages    2.50   \n",
       "7827                   Sachin Garg       Paperback          NaN    2.91   \n",
       "7926              Alejandra Campos       Paperback    128 pages    0.00   \n",
       "7929       Aihebholo-oria Okonoboh  Kindle Edition          NaN    0.00   \n",
       "7941        Beau Garçon De La Nuit  Kindle Edition    314 pages    2.73   \n",
       "8002              Franz Josef Kaps       Paperback    280 pages    0.00   \n",
       "8072                   Cale Rainer       Paperback    108 pages    0.00   \n",
       "8161                          DIEL  Kindle Edition    375 pages    0.00   \n",
       "8201           John Magallan Lopez       Paperback     56 pages    0.00   \n",
       "8291                 Camilla Stein  Kindle Edition          NaN    0.00   \n",
       "8304               T. Notch Thomas  Kindle Edition    268 pages    0.00   \n",
       "8341                   Leonard Kim       Paperback    104 pages    2.89   \n",
       "8367                   Sandra Lott       Paperback    116 pages    0.00   \n",
       "8447                   Tony Yarbro             NaN          NaN    0.00   \n",
       "8514           Tavares Boykins Sr.       Paperback    268 pages    0.00   \n",
       "8525                   Stan Findus  Kindle Edition    274 pages    2.80   \n",
       "8556                  Mary Hartley             NaN          NaN    0.00   \n",
       "8664                    Noorilhuda  Kindle Edition    270 pages    2.84   \n",
       "\n",
       "      score  votes                          release_date  \\\n",
       "2327    594      6    (first published October 1st 2011)   \n",
       "3119    378      5                                   NaN   \n",
       "3584    300      3                                   NaN   \n",
       "3682    294      3    (first published January 2nd 2013)   \n",
       "4723    200      2                                   NaN   \n",
       "4749    200      2                                   NaN   \n",
       "4893    198      2                                   NaN   \n",
       "4965    196      2                (first published 2005)   \n",
       "5444    187      2    (first published January 1st 1950)   \n",
       "6845    112      2                                   NaN   \n",
       "7090    100      1                                   NaN   \n",
       "7142    100      1                                   NaN   \n",
       "7166    100      1   (first published October 13th 2011)   \n",
       "7176    100      1      (first published July 29th 2011)   \n",
       "7287    100      1                                   NaN   \n",
       "7421    100      1  (first published November 15th 2011)   \n",
       "7534    100      1                                   NaN   \n",
       "7620    100      1                                   NaN   \n",
       "7775    100      1       (first published May 29th 2013)   \n",
       "7827    100      1    (first published January 1st 2013)   \n",
       "7926    100      1                                   NaN   \n",
       "7929    100      1   (first published October 19th 2012)   \n",
       "7941    100      1                                   NaN   \n",
       "8002    100      1                                   NaN   \n",
       "8072    100      1                                   NaN   \n",
       "8161    100      1                                   NaN   \n",
       "8201    100      1                                   NaN   \n",
       "8291    100      1                                   NaN   \n",
       "8304    100      1                                   NaN   \n",
       "8341    100      1                                   NaN   \n",
       "8367    100      1                                   NaN   \n",
       "8447    100      1                                   NaN   \n",
       "8514    100      1                                   NaN   \n",
       "8525    100      1                                   NaN   \n",
       "8556    100      1                                   NaN   \n",
       "8664    100      1       (first published July 1st 2015)   \n",
       "\n",
       "                                       new_release_date  cnt_ratings  \\\n",
       "2327  Published\\n        January 10th 2012\\n        ...          917   \n",
       "3119  Published\\n        May 5th 2009\\n         by D...        26957   \n",
       "3584              Published\\n        September 3rd 2018            0   \n",
       "3682  Published\\n        January 1st 2017\\n         ...          280   \n",
       "4723  Published\\n        June 11th 2019\\n         by...         2388   \n",
       "4749                  Published\\n        July 29th 2020            0   \n",
       "4893  Published\\n        February 13th 2019\\n       ...           31   \n",
       "4965  Published\\n        May 1st 2007\\n         by B...        54236   \n",
       "5444  Published\\n        November 28th 2002\\n       ...         2889   \n",
       "6845  Published\\n        May 4th 2010\\n         by D...        12658   \n",
       "7090  Published\\n        December 15th 2010\\n       ...            0   \n",
       "7142  Published\\n        May 19th 2011\\n         by ...            8   \n",
       "7166  Published\\n        \\n        \\n\\n            \\...           57   \n",
       "7176  Published\\n        \\n        \\n\\n            \\...            0   \n",
       "7287  Published\\n        2012\\n         by RLB Produ...            0   \n",
       "7421  Published\\n        December 2011\\n         by ...            2   \n",
       "7534  Published\\n        September 1st 2005\\n       ...           12   \n",
       "7620  Published\\n        May 10th 2012\\n         by ...          177   \n",
       "7775  Published\\n        May 30th 2013\\n         by ...            2   \n",
       "7827  Published\\n        April 15th 2013\\n         b...          919   \n",
       "7926  Published\\n        July 28th 2013\\n         by...            0   \n",
       "7929  Published\\n        \\n         by Olefaniel Pub...            0   \n",
       "7941  Published\\n        September 25th 2013\\n      ...           30   \n",
       "8002  Published\\n        October 28th 2013\\n        ...            0   \n",
       "8072  Published\\n        June 15th 2013\\n         by...            0   \n",
       "8161                Published\\n        January 9th 2012            0   \n",
       "8201  Published\\n        April 29th 2014\\n         b...            0   \n",
       "8291                                                NaN            0   \n",
       "8304                 Published\\n        April 16th 2014            0   \n",
       "8341  Published\\n        August 27th 2014\\n         ...           37   \n",
       "8367  Published\\n        December 3rd 2013\\n        ...            0   \n",
       "8447                                                NaN            0   \n",
       "8514  Published\\n        February 2nd 2015\\n        ...            0   \n",
       "8525  Published\\n        February 6th 2015\\n        ...            5   \n",
       "8556                                                NaN            0   \n",
       "8664  Published\\n        July 12th 2015\\n         by...           43   \n",
       "\n",
       "      sufficient_ratings  sufficient_votes  sufficient_data  high_rank  \n",
       "2327                   1                 1                1          1  \n",
       "3119                   1                 1                1          1  \n",
       "3584                   0                 1                0          1  \n",
       "3682                   1                 1                1          1  \n",
       "4723                   1                 1                1          0  \n",
       "4749                   0                 1                0          0  \n",
       "4893                   1                 1                1          0  \n",
       "4965                   1                 1                1          0  \n",
       "5444                   1                 1                1          0  \n",
       "6845                   1                 1                1          0  \n",
       "7090                   0                 0                0          0  \n",
       "7142                   0                 0                0          0  \n",
       "7166                   1                 0                0          0  \n",
       "7176                   0                 0                0          0  \n",
       "7287                   0                 0                0          0  \n",
       "7421                   0                 0                0          0  \n",
       "7534                   1                 0                0          0  \n",
       "7620                   1                 0                0          0  \n",
       "7775                   0                 0                0          0  \n",
       "7827                   1                 0                0          0  \n",
       "7926                   0                 0                0          0  \n",
       "7929                   0                 0                0          0  \n",
       "7941                   1                 0                0          0  \n",
       "8002                   0                 0                0          0  \n",
       "8072                   0                 0                0          0  \n",
       "8161                   0                 0                0          0  \n",
       "8201                   0                 0                0          0  \n",
       "8291                   0                 0                0          0  \n",
       "8304                   0                 0                0          0  \n",
       "8341                   1                 0                0          0  \n",
       "8367                   0                 0                0          0  \n",
       "8447                   0                 0                0          0  \n",
       "8514                   0                 0                0          0  \n",
       "8525                   0                 0                0          0  \n",
       "8556                   0                 0                0          0  \n",
       "8664                   1                 0                0          0  "
      ]
     },
     "execution_count": 11,
     "metadata": {},
     "output_type": "execute_result"
    }
   ],
   "source": [
    "data[data['rating'] < 3]"
   ]
  },
  {
   "cell_type": "code",
   "execution_count": 13,
   "metadata": {},
   "outputs": [
    {
     "data": {
      "text/plain": [
       "4.069425522252507"
      ]
     },
     "execution_count": 13,
     "metadata": {},
     "output_type": "execute_result"
    }
   ],
   "source": [
    "# split by high and low rank for plotting\n",
    "high_rating = data[data['high_rank'] == 1]['rating'] \n",
    "high_rating.mean()\n",
    "# low_rating = data[data['high_rank'] == 0]['rating'] \n",
    "# low_rating.mean()"
   ]
  },
  {
   "cell_type": "code",
   "execution_count": 14,
   "metadata": {},
   "outputs": [
    {
     "data": {
      "image/png": "[encoded data removed]",
      "text/plain": [
       "<Figure size 576x360 with 2 Axes>"
      ]
     },
     "metadata": {},
     "output_type": "display_data"
    }
   ],
   "source": [
    "fig, axs = plt.subplots(2, figsize=(8,5))\n",
    "fig.suptitle('Ratings by Rank Level')\n",
    "axs[0].hist(low_rating, bins=50)\n",
    "axs[0].axvline(low_rating.mean(), color='black', linestyle='--')\n",
    "axs[0].set_title('Low Rank')\n",
    "axs[0].text(3.1, 610, 'Mean = 4.072', fontsize = 10)\n",
    "axs[0].set_xlim(0, 5)\n",
    "axs[0].set_ylim(0, 800)\n",
    "axs[1].hist(high_rating, bins=50)\n",
    "axs[1].axvline(high_rating.mean(), color='black', linestyle='--')\n",
    "axs[1].set_title('High Rank')\n",
    "axs[1].text(3.1, 610, 'Mean = 4.069', fontsize = 10)\n",
    "axs[1].set_xlabel('Rating')\n",
    "axs[1].set_xlim(0, 5)\n",
    "axs[1].set_ylim(0, 800)\n",
    "plt.savefig('img/all_ratings_by_rank_histogram')"
   ]
  },
  {
   "cell_type": "code",
   "execution_count": 15,
   "metadata": {
    "scrolled": true
   },
   "outputs": [
    {
     "data": {
      "text/plain": [
       "count    4396.000000\n",
       "mean        4.072418\n",
       "std         0.453616\n",
       "min         0.000000\n",
       "25%         3.850000\n",
       "50%         4.080000\n",
       "75%         4.290000\n",
       "max         5.000000\n",
       "Name: rating, dtype: float64"
      ]
     },
     "execution_count": 15,
     "metadata": {},
     "output_type": "execute_result"
    }
   ],
   "source": [
    "low_rating.describe()"
   ]
  },
  {
   "cell_type": "code",
   "execution_count": 16,
   "metadata": {},
   "outputs": [
    {
     "data": {
      "text/plain": [
       "count    4404.000000\n",
       "mean        4.069426\n",
       "std         0.286477\n",
       "min         0.000000\n",
       "25%         3.900000\n",
       "50%         4.080000\n",
       "75%         4.250000\n",
       "max         5.000000\n",
       "Name: rating, dtype: float64"
      ]
     },
     "execution_count": 16,
     "metadata": {},
     "output_type": "execute_result"
    }
   ],
   "source": [
    "high_rating.describe()"
   ]
  },
  {
   "cell_type": "code",
   "execution_count": 17,
   "metadata": {
    "scrolled": false
   },
   "outputs": [
    {
     "data": {
      "text/plain": [
       "rank                  176\n",
       "title                 176\n",
       "author                176\n",
       "format                172\n",
       "pages                 152\n",
       "rating                176\n",
       "score                 176\n",
       "votes                 176\n",
       "release_date           36\n",
       "new_release_date      174\n",
       "cnt_ratings           176\n",
       "sufficient_ratings    176\n",
       "sufficient_votes      176\n",
       "sufficient_data       176\n",
       "high_rank             176\n",
       "dtype: int64"
      ]
     },
     "execution_count": 17,
     "metadata": {},
     "output_type": "execute_result"
    }
   ],
   "source": [
    "data[data['rating'] == 5].count()"
   ]
  },
  {
   "cell_type": "code",
   "execution_count": 18,
   "metadata": {},
   "outputs": [
    {
     "data": {
      "image/png": "[encoded data removed]",
      "text/plain": [
       "<Figure size 864x360 with 1 Axes>"
      ]
     },
     "metadata": {},
     "output_type": "display_data"
    }
   ],
   "source": [
    "fig, ax = plt.subplots(figsize=(12,5))\n",
    "ax.hist(data['cnt_ratings'], bins=100, color='red')\n",
    "# ax.axvline(data['cnt_ratings'].mean(), color='black', linestyle='--')\n",
    "ax.set_title('Ratings Count Histogram')\n",
    "ax.set_yscale('log')\n",
    "ax.set_xlabel('Times Rated')\n",
    "ax.set_ylabel('Log of Frequency')\n",
    "plt.savefig('img/ratings_count_histogram.png')"
   ]
  },
  {
   "cell_type": "code",
   "execution_count": 19,
   "metadata": {
    "scrolled": true
   },
   "outputs": [
    {
     "data": {
      "image/png": "[encoded data removed]",
      "text/plain": [
       "<Figure size 864x360 with 1 Axes>"
      ]
     },
     "metadata": {},
     "output_type": "display_data"
    }
   ],
   "source": [
    "fig, ax = plt.subplots(figsize=(12,5))\n",
    "ax.hist(data['votes'], bins=100, color='red')\n",
    "# ax.axvline(data['votes'].mean(), color='black', linestyle='--')\n",
    "ax.set_title('Votes Histogram')\n",
    "ax.set_yscale('log')\n",
    "ax.set_xlabel('Votes')\n",
    "ax.set_ylabel('Log of Frequency')\n",
    "plt.savefig('img/votes_histogram.png')"
   ]
  },
  {
   "cell_type": "code",
   "execution_count": 20,
   "metadata": {},
   "outputs": [
    {
     "data": {
      "image/png": "[encoded data removed]",
      "text/plain": [
       "<Figure size 864x360 with 1 Axes>"
      ]
     },
     "metadata": {},
     "output_type": "display_data"
    }
   ],
   "source": [
    "fig, ax = plt.subplots(figsize=(12,5))\n",
    "ax.hist(data['score'], bins=100, color='red')\n",
    "ax.set_title('Score Histogram')\n",
    "ax.set_yscale('log')\n",
    "ax.set_xlabel('Score')\n",
    "ax.set_ylabel('Log of Frequency')\n",
    "plt.savefig('data/score_histogram')"
   ]
  },
  {
   "cell_type": "code",
   "execution_count": 21,
   "metadata": {
    "scrolled": true
   },
   "outputs": [
    {
     "data": {
      "image/png": "[encoded data removed]",
      "text/plain": [
       "<Figure size 864x360 with 1 Axes>"
      ]
     },
     "metadata": {},
     "output_type": "display_data"
    }
   ],
   "source": [
    "fig, ax = plt.subplots(figsize=(12, 5))\n",
    "ax.scatter(data['rank'], data['rating'], color = 'red')\n",
    "ax.axhline(4.071, color='blue', linestyle='--', label='Ratings Mean')\n",
    "ax.set_title(\"Scatter Plot of Rating by Rank\")\n",
    "ax.set_xlabel(\"Rank\")\n",
    "ax.set_ylabel(\"Rating\")\n",
    "ax.legend(loc='best' )\n",
    "plt.savefig('img/scatter_rating_rank.png')\n"
   ]
  },
  {
   "cell_type": "code",
   "execution_count": 22,
   "metadata": {},
   "outputs": [
    {
     "data": {
      "image/png": "[encoded data removed]",
      "text/plain": [
       "<Figure size 864x360 with 1 Axes>"
      ]
     },
     "metadata": {},
     "output_type": "display_data"
    }
   ],
   "source": [
    "fig, ax = plt.subplots(figsize=(12, 5))\n",
    "ax.scatter(data['score'], data['rating'], color = 'red')\n",
    "ax.set_title(\"Scatter Plot of Log Score by Rating\")\n",
    "ax.axhline(4.071, color='blue', linestyle='--', label='Ratings Mean')\n",
    "ax.set_xlabel(\"Log of Score\")\n",
    "ax.set_ylabel(\"Rating\")\n",
    "ax.set_xscale('log')\n",
    "ax.legend(loc='best')\n",
    "plt.savefig('img/scatter_rating_score.png')\n"
   ]
  },
  {
   "cell_type": "markdown",
   "metadata": {},
   "source": [
    "**Sufficient Ratings**"
   ]
  },
  {
   "cell_type": "code",
   "execution_count": 23,
   "metadata": {},
   "outputs": [
    {
     "data": {
      "text/plain": [
       "rank                  8227\n",
       "title                 8227\n",
       "author                8227\n",
       "format                8071\n",
       "pages                 7899\n",
       "rating                8227\n",
       "score                 8227\n",
       "votes                 8227\n",
       "release_date          5251\n",
       "new_release_date      8137\n",
       "cnt_ratings           8227\n",
       "sufficient_ratings    8227\n",
       "sufficient_votes      8227\n",
       "sufficient_data       8227\n",
       "high_rank             8227\n",
       "dtype: int64"
      ]
     },
     "execution_count": 23,
     "metadata": {},
     "output_type": "execute_result"
    }
   ],
   "source": [
    "data[data['sufficient_ratings'] == 1].count()"
   ]
  },
  {
   "cell_type": "code",
   "execution_count": 24,
   "metadata": {},
   "outputs": [],
   "source": [
    "s_ratings = data[data['sufficient_ratings'] == 1] "
   ]
  },
  {
   "cell_type": "code",
   "execution_count": 25,
   "metadata": {},
   "outputs": [
    {
     "name": "stderr",
     "output_type": "stream",
     "text": [
      "/home/shredder/anaconda3/lib/python3.7/site-packages/ipykernel_launcher.py:1: SettingWithCopyWarning: \n",
      "A value is trying to be set on a copy of a slice from a DataFrame.\n",
      "Try using .loc[row_indexer,col_indexer] = value instead\n",
      "\n",
      "See the caveats in the documentation: https://pandas.pydata.org/pandas-docs/stable/user_guide/indexing.html#returning-a-view-versus-a-copy\n",
      "  \"\"\"Entry point for launching an IPython kernel.\n"
     ]
    }
   ],
   "source": [
    "s_ratings['high_rank'] = np.where(s_ratings['rank'] < (len(s_ratings['rank']) / 2), 1, 0)"
   ]
  },
  {
   "cell_type": "code",
   "execution_count": 26,
   "metadata": {},
   "outputs": [
    {
     "name": "stdout",
     "output_type": "stream",
     "text": [
      "<class 'pandas.core.frame.DataFrame'>\n",
      "Int64Index: 8227 entries, 0 to 8799\n",
      "Data columns (total 15 columns):\n",
      " #   Column              Non-Null Count  Dtype  \n",
      "---  ------              --------------  -----  \n",
      " 0   rank                8227 non-null   int64  \n",
      " 1   title               8227 non-null   object \n",
      " 2   author              8227 non-null   object \n",
      " 3   format              8071 non-null   object \n",
      " 4   pages               7899 non-null   object \n",
      " 5   rating              8227 non-null   float64\n",
      " 6   score               8227 non-null   int64  \n",
      " 7   votes               8227 non-null   int64  \n",
      " 8   release_date        5251 non-null   object \n",
      " 9   new_release_date    8137 non-null   object \n",
      " 10  cnt_ratings         8227 non-null   int64  \n",
      " 11  sufficient_ratings  8227 non-null   int64  \n",
      " 12  sufficient_votes    8227 non-null   int64  \n",
      " 13  sufficient_data     8227 non-null   int64  \n",
      " 14  high_rank           8227 non-null   int64  \n",
      "dtypes: float64(1), int64(8), object(6)\n",
      "memory usage: 1.0+ MB\n"
     ]
    }
   ],
   "source": [
    "s_ratings.info()"
   ]
  },
  {
   "cell_type": "code",
   "execution_count": 27,
   "metadata": {
    "scrolled": true
   },
   "outputs": [
    {
     "data": {
      "text/html": [
       "<div>\n",
       "<style scoped>\n",
       "    .dataframe tbody tr th:only-of-type {\n",
       "        vertical-align: middle;\n",
       "    }\n",
       "\n",
       "    .dataframe tbody tr th {\n",
       "        vertical-align: top;\n",
       "    }\n",
       "\n",
       "    .dataframe thead th {\n",
       "        text-align: right;\n",
       "    }\n",
       "</style>\n",
       "<table border=\"1\" class=\"dataframe\">\n",
       "  <thead>\n",
       "    <tr style=\"text-align: right;\">\n",
       "      <th></th>\n",
       "      <th>rank</th>\n",
       "      <th>rating</th>\n",
       "      <th>score</th>\n",
       "      <th>votes</th>\n",
       "      <th>cnt_ratings</th>\n",
       "      <th>sufficient_ratings</th>\n",
       "      <th>sufficient_votes</th>\n",
       "      <th>sufficient_data</th>\n",
       "      <th>high_rank</th>\n",
       "    </tr>\n",
       "  </thead>\n",
       "  <tbody>\n",
       "    <tr>\n",
       "      <th>count</th>\n",
       "      <td>8227.000000</td>\n",
       "      <td>8227.000000</td>\n",
       "      <td>8.227000e+03</td>\n",
       "      <td>8227.000000</td>\n",
       "      <td>8.227000e+03</td>\n",
       "      <td>8227.0</td>\n",
       "      <td>8227.000000</td>\n",
       "      <td>8227.000000</td>\n",
       "      <td>8227.000000</td>\n",
       "    </tr>\n",
       "    <tr>\n",
       "      <th>mean</th>\n",
       "      <td>4043.901057</td>\n",
       "      <td>4.055083</td>\n",
       "      <td>7.488346e+03</td>\n",
       "      <td>86.140027</td>\n",
       "      <td>8.296885e+04</td>\n",
       "      <td>1.0</td>\n",
       "      <td>0.838094</td>\n",
       "      <td>0.838094</td>\n",
       "      <td>0.498116</td>\n",
       "    </tr>\n",
       "    <tr>\n",
       "      <th>std</th>\n",
       "      <td>2258.450542</td>\n",
       "      <td>0.297835</td>\n",
       "      <td>6.284538e+04</td>\n",
       "      <td>664.362229</td>\n",
       "      <td>2.851948e+05</td>\n",
       "      <td>0.0</td>\n",
       "      <td>0.368387</td>\n",
       "      <td>0.368387</td>\n",
       "      <td>0.500027</td>\n",
       "    </tr>\n",
       "    <tr>\n",
       "      <th>min</th>\n",
       "      <td>1.000000</td>\n",
       "      <td>1.610000</td>\n",
       "      <td>1.000000e+02</td>\n",
       "      <td>1.000000</td>\n",
       "      <td>1.000000e+01</td>\n",
       "      <td>1.0</td>\n",
       "      <td>0.000000</td>\n",
       "      <td>0.000000</td>\n",
       "      <td>0.000000</td>\n",
       "    </tr>\n",
       "    <tr>\n",
       "      <th>25%</th>\n",
       "      <td>2057.500000</td>\n",
       "      <td>3.870000</td>\n",
       "      <td>1.570000e+02</td>\n",
       "      <td>2.000000</td>\n",
       "      <td>5.640000e+02</td>\n",
       "      <td>1.0</td>\n",
       "      <td>1.000000</td>\n",
       "      <td>1.000000</td>\n",
       "      <td>0.000000</td>\n",
       "    </tr>\n",
       "    <tr>\n",
       "      <th>50%</th>\n",
       "      <td>4127.000000</td>\n",
       "      <td>4.070000</td>\n",
       "      <td>2.610000e+02</td>\n",
       "      <td>3.000000</td>\n",
       "      <td>1.442200e+04</td>\n",
       "      <td>1.0</td>\n",
       "      <td>1.000000</td>\n",
       "      <td>1.000000</td>\n",
       "      <td>0.000000</td>\n",
       "    </tr>\n",
       "    <tr>\n",
       "      <th>75%</th>\n",
       "      <td>6265.000000</td>\n",
       "      <td>4.240000</td>\n",
       "      <td>7.110000e+02</td>\n",
       "      <td>9.000000</td>\n",
       "      <td>6.266350e+04</td>\n",
       "      <td>1.0</td>\n",
       "      <td>1.000000</td>\n",
       "      <td>1.000000</td>\n",
       "      <td>1.000000</td>\n",
       "    </tr>\n",
       "    <tr>\n",
       "      <th>max</th>\n",
       "      <td>6990.000000</td>\n",
       "      <td>5.000000</td>\n",
       "      <td>2.314743e+06</td>\n",
       "      <td>23465.000000</td>\n",
       "      <td>7.049026e+06</td>\n",
       "      <td>1.0</td>\n",
       "      <td>1.000000</td>\n",
       "      <td>1.000000</td>\n",
       "      <td>1.000000</td>\n",
       "    </tr>\n",
       "  </tbody>\n",
       "</table>\n",
       "</div>"
      ],
      "text/plain": [
       "              rank       rating         score         votes   cnt_ratings  \\\n",
       "count  8227.000000  8227.000000  8.227000e+03   8227.000000  8.227000e+03   \n",
       "mean   4043.901057     4.055083  7.488346e+03     86.140027  8.296885e+04   \n",
       "std    2258.450542     0.297835  6.284538e+04    664.362229  2.851948e+05   \n",
       "min       1.000000     1.610000  1.000000e+02      1.000000  1.000000e+01   \n",
       "25%    2057.500000     3.870000  1.570000e+02      2.000000  5.640000e+02   \n",
       "50%    4127.000000     4.070000  2.610000e+02      3.000000  1.442200e+04   \n",
       "75%    6265.000000     4.240000  7.110000e+02      9.000000  6.266350e+04   \n",
       "max    6990.000000     5.000000  2.314743e+06  23465.000000  7.049026e+06   \n",
       "\n",
       "       sufficient_ratings  sufficient_votes  sufficient_data    high_rank  \n",
       "count              8227.0       8227.000000      8227.000000  8227.000000  \n",
       "mean                  1.0          0.838094         0.838094     0.498116  \n",
       "std                   0.0          0.368387         0.368387     0.500027  \n",
       "min                   1.0          0.000000         0.000000     0.000000  \n",
       "25%                   1.0          1.000000         1.000000     0.000000  \n",
       "50%                   1.0          1.000000         1.000000     0.000000  \n",
       "75%                   1.0          1.000000         1.000000     1.000000  \n",
       "max                   1.0          1.000000         1.000000     1.000000  "
      ]
     },
     "execution_count": 27,
     "metadata": {},
     "output_type": "execute_result"
    }
   ],
   "source": [
    "s_ratings.describe()"
   ]
  },
  {
   "cell_type": "code",
   "execution_count": 28,
   "metadata": {},
   "outputs": [
    {
     "data": {
      "text/plain": [
       "Text(0, 0.5, 'Log of Frequency')"
      ]
     },
     "execution_count": 28,
     "metadata": {},
     "output_type": "execute_result"
    },
    {
     "data": {
      "image/png": "[encoded data removed]",
      "text/plain": [
       "<Figure size 576x360 with 1 Axes>"
      ]
     },
     "metadata": {},
     "output_type": "display_data"
    }
   ],
   "source": [
    "fig, ax = plt.subplots(figsize=(8,5))\n",
    "ax.hist(s_ratings['rating'], bins=100, color='blue')\n",
    "ax.axvline(s_ratings['rating'].mean(), color='black', linestyle='--')\n",
    "ax.set_title('Ratings Histogram for Books with 10+ Ratings')\n",
    "# ax.set_yscale('log')\n",
    "ax.set_xlabel('Ratings')\n",
    "ax.set_ylabel('Log of Frequency')"
   ]
  },
  {
   "cell_type": "code",
   "execution_count": 29,
   "metadata": {},
   "outputs": [
    {
     "data": {
      "text/plain": [
       "4.042177282635024"
      ]
     },
     "execution_count": 29,
     "metadata": {},
     "output_type": "execute_result"
    }
   ],
   "source": [
    "# split by high and low rank for plotting\n",
    "s_ratings_high = s_ratings[s_ratings['high_rank'] == 1]['rating'] \n",
    "s_ratings_high\n",
    "s_ratings_high.mean()\n",
    "s_ratings_low = s_ratings[s_ratings['high_rank'] == 0]['rating'] \n",
    "s_ratings_low\n",
    "s_ratings_low.mean()"
   ]
  },
  {
   "cell_type": "code",
   "execution_count": 30,
   "metadata": {
    "scrolled": true
   },
   "outputs": [
    {
     "data": {
      "text/plain": [
       "(0.0, 500.0)"
      ]
     },
     "execution_count": 30,
     "metadata": {},
     "output_type": "execute_result"
    },
    {
     "data": {
      "image/png": "[encoded data removed]",
      "text/plain": [
       "<Figure size 576x360 with 2 Axes>"
      ]
     },
     "metadata": {},
     "output_type": "display_data"
    }
   ],
   "source": [
    "fig, axs = plt.subplots(2, figsize=(8,5))\n",
    "fig.suptitle('Ratings by Rank Level - At Least 10 Ratings')\n",
    "axs[0].hist(s_ratings_low, bins=50, color='blue')\n",
    "axs[0].axvline(s_ratings_low.mean(), color='black', linestyle='--')\n",
    "axs[0].set_title('Low Rank')\n",
    "axs[0].text(3.1, 410, 'Mean = 4.042', fontsize = 10)\n",
    "axs[0].set_xlim(0, 5)\n",
    "axs[0].set_ylim(0, 500)\n",
    "axs[1].hist(s_ratings_high, bins=50, color='blue')\n",
    "axs[1].axvline(s_ratings_high.mean(), color='black', linestyle='--')\n",
    "axs[1].set_title('High Rank')\n",
    "axs[1].text(3.1, 410, 'Mean = 4.068', fontsize = 10)\n",
    "axs[1].set_xlabel('Rating')\n",
    "axs[1].set_xlim(0, 5)\n",
    "axs[1].set_ylim(0, 500)"
   ]
  },
  {
   "cell_type": "code",
   "execution_count": 31,
   "metadata": {},
   "outputs": [
    {
     "data": {
      "text/plain": [
       "count    4129.000000\n",
       "mean        4.042177\n",
       "std         0.315518\n",
       "min         1.610000\n",
       "25%         3.850000\n",
       "50%         4.060000\n",
       "75%         4.240000\n",
       "max         5.000000\n",
       "Name: rating, dtype: float64"
      ]
     },
     "execution_count": 31,
     "metadata": {},
     "output_type": "execute_result"
    }
   ],
   "source": [
    "s_ratings_low.describe()"
   ]
  },
  {
   "cell_type": "code",
   "execution_count": 32,
   "metadata": {},
   "outputs": [
    {
     "data": {
      "text/plain": [
       "count    4098.000000\n",
       "mean        4.068087\n",
       "std         0.278320\n",
       "min         1.920000\n",
       "25%         3.900000\n",
       "50%         4.080000\n",
       "75%         4.250000\n",
       "max         5.000000\n",
       "Name: rating, dtype: float64"
      ]
     },
     "execution_count": 32,
     "metadata": {},
     "output_type": "execute_result"
    }
   ],
   "source": [
    "s_ratings_high.describe()"
   ]
  },
  {
   "cell_type": "markdown",
   "metadata": {},
   "source": [
    "**Sufficient Votes**"
   ]
  },
  {
   "cell_type": "code",
   "execution_count": 33,
   "metadata": {},
   "outputs": [
    {
     "data": {
      "text/plain": [
       "rank                  7000\n",
       "title                 7000\n",
       "author                7000\n",
       "format                6869\n",
       "pages                 6755\n",
       "rating                7000\n",
       "score                 7000\n",
       "votes                 7000\n",
       "release_date          4609\n",
       "new_release_date      6916\n",
       "cnt_ratings           7000\n",
       "sufficient_ratings    7000\n",
       "sufficient_votes      7000\n",
       "sufficient_data       7000\n",
       "high_rank             7000\n",
       "dtype: int64"
      ]
     },
     "execution_count": 33,
     "metadata": {},
     "output_type": "execute_result"
    }
   ],
   "source": [
    "s_votes = data[data['sufficient_votes'] == 1] \n",
    "s_votes.count()"
   ]
  },
  {
   "cell_type": "code",
   "execution_count": 34,
   "metadata": {
    "scrolled": false
   },
   "outputs": [
    {
     "name": "stderr",
     "output_type": "stream",
     "text": [
      "/home/shredder/anaconda3/lib/python3.7/site-packages/ipykernel_launcher.py:1: SettingWithCopyWarning: \n",
      "A value is trying to be set on a copy of a slice from a DataFrame.\n",
      "Try using .loc[row_indexer,col_indexer] = value instead\n",
      "\n",
      "See the caveats in the documentation: https://pandas.pydata.org/pandas-docs/stable/user_guide/indexing.html#returning-a-view-versus-a-copy\n",
      "  \"\"\"Entry point for launching an IPython kernel.\n"
     ]
    }
   ],
   "source": [
    "s_votes['high_rank'] = np.where(s_votes['rank'] < (len(s_votes['rank']) / 2), 1, 0)"
   ]
  },
  {
   "cell_type": "code",
   "execution_count": 35,
   "metadata": {},
   "outputs": [
    {
     "name": "stdout",
     "output_type": "stream",
     "text": [
      "<class 'pandas.core.frame.DataFrame'>\n",
      "Int64Index: 7000 entries, 0 to 8534\n",
      "Data columns (total 15 columns):\n",
      " #   Column              Non-Null Count  Dtype  \n",
      "---  ------              --------------  -----  \n",
      " 0   rank                7000 non-null   int64  \n",
      " 1   title               7000 non-null   object \n",
      " 2   author              7000 non-null   object \n",
      " 3   format              6869 non-null   object \n",
      " 4   pages               6755 non-null   object \n",
      " 5   rating              7000 non-null   float64\n",
      " 6   score               7000 non-null   int64  \n",
      " 7   votes               7000 non-null   int64  \n",
      " 8   release_date        4609 non-null   object \n",
      " 9   new_release_date    6916 non-null   object \n",
      " 10  cnt_ratings         7000 non-null   int64  \n",
      " 11  sufficient_ratings  7000 non-null   int64  \n",
      " 12  sufficient_votes    7000 non-null   int64  \n",
      " 13  sufficient_data     7000 non-null   int64  \n",
      " 14  high_rank           7000 non-null   int64  \n",
      "dtypes: float64(1), int64(8), object(6)\n",
      "memory usage: 875.0+ KB\n"
     ]
    }
   ],
   "source": [
    "s_votes.info()"
   ]
  },
  {
   "cell_type": "code",
   "execution_count": 36,
   "metadata": {},
   "outputs": [
    {
     "data": {
      "text/html": [
       "<div>\n",
       "<style scoped>\n",
       "    .dataframe tbody tr th:only-of-type {\n",
       "        vertical-align: middle;\n",
       "    }\n",
       "\n",
       "    .dataframe tbody tr th {\n",
       "        vertical-align: top;\n",
       "    }\n",
       "\n",
       "    .dataframe thead th {\n",
       "        text-align: right;\n",
       "    }\n",
       "</style>\n",
       "<table border=\"1\" class=\"dataframe\">\n",
       "  <thead>\n",
       "    <tr style=\"text-align: right;\">\n",
       "      <th></th>\n",
       "      <th>rank</th>\n",
       "      <th>rating</th>\n",
       "      <th>score</th>\n",
       "      <th>votes</th>\n",
       "      <th>cnt_ratings</th>\n",
       "      <th>sufficient_ratings</th>\n",
       "      <th>sufficient_votes</th>\n",
       "      <th>sufficient_data</th>\n",
       "      <th>high_rank</th>\n",
       "    </tr>\n",
       "  </thead>\n",
       "  <tbody>\n",
       "    <tr>\n",
       "      <th>count</th>\n",
       "      <td>7000.000000</td>\n",
       "      <td>7000.000000</td>\n",
       "      <td>7.000000e+03</td>\n",
       "      <td>7000.000000</td>\n",
       "      <td>7.000000e+03</td>\n",
       "      <td>7000.000000</td>\n",
       "      <td>7000.0</td>\n",
       "      <td>7000.000000</td>\n",
       "      <td>7000.000000</td>\n",
       "    </tr>\n",
       "    <tr>\n",
       "      <th>mean</th>\n",
       "      <td>3492.113857</td>\n",
       "      <td>4.068351</td>\n",
       "      <td>8.785517e+03</td>\n",
       "      <td>101.086571</td>\n",
       "      <td>9.708764e+04</td>\n",
       "      <td>0.985000</td>\n",
       "      <td>1.0</td>\n",
       "      <td>0.985000</td>\n",
       "      <td>0.499857</td>\n",
       "    </tr>\n",
       "    <tr>\n",
       "      <th>std</th>\n",
       "      <td>2014.945006</td>\n",
       "      <td>0.299190</td>\n",
       "      <td>6.804892e+04</td>\n",
       "      <td>719.206015</td>\n",
       "      <td>3.069996e+05</td>\n",
       "      <td>0.121561</td>\n",
       "      <td>0.0</td>\n",
       "      <td>0.121561</td>\n",
       "      <td>0.500036</td>\n",
       "    </tr>\n",
       "    <tr>\n",
       "      <th>min</th>\n",
       "      <td>1.000000</td>\n",
       "      <td>0.000000</td>\n",
       "      <td>1.000000e+02</td>\n",
       "      <td>2.000000</td>\n",
       "      <td>0.000000e+00</td>\n",
       "      <td>0.000000</td>\n",
       "      <td>1.0</td>\n",
       "      <td>0.000000</td>\n",
       "      <td>0.000000</td>\n",
       "    </tr>\n",
       "    <tr>\n",
       "      <th>25%</th>\n",
       "      <td>1750.750000</td>\n",
       "      <td>3.890000</td>\n",
       "      <td>1.920000e+02</td>\n",
       "      <td>2.000000</td>\n",
       "      <td>3.152750e+03</td>\n",
       "      <td>1.000000</td>\n",
       "      <td>1.0</td>\n",
       "      <td>1.000000</td>\n",
       "      <td>0.000000</td>\n",
       "    </tr>\n",
       "    <tr>\n",
       "      <th>50%</th>\n",
       "      <td>3500.000000</td>\n",
       "      <td>4.070000</td>\n",
       "      <td>3.150000e+02</td>\n",
       "      <td>4.000000</td>\n",
       "      <td>2.231150e+04</td>\n",
       "      <td>1.000000</td>\n",
       "      <td>1.0</td>\n",
       "      <td>1.000000</td>\n",
       "      <td>0.000000</td>\n",
       "    </tr>\n",
       "    <tr>\n",
       "      <th>75%</th>\n",
       "      <td>5217.000000</td>\n",
       "      <td>4.250000</td>\n",
       "      <td>9.312500e+02</td>\n",
       "      <td>12.000000</td>\n",
       "      <td>7.816075e+04</td>\n",
       "      <td>1.000000</td>\n",
       "      <td>1.0</td>\n",
       "      <td>1.000000</td>\n",
       "      <td>1.000000</td>\n",
       "    </tr>\n",
       "    <tr>\n",
       "      <th>max</th>\n",
       "      <td>6990.000000</td>\n",
       "      <td>5.000000</td>\n",
       "      <td>2.314743e+06</td>\n",
       "      <td>23465.000000</td>\n",
       "      <td>7.049026e+06</td>\n",
       "      <td>1.000000</td>\n",
       "      <td>1.0</td>\n",
       "      <td>1.000000</td>\n",
       "      <td>1.000000</td>\n",
       "    </tr>\n",
       "  </tbody>\n",
       "</table>\n",
       "</div>"
      ],
      "text/plain": [
       "              rank       rating         score         votes   cnt_ratings  \\\n",
       "count  7000.000000  7000.000000  7.000000e+03   7000.000000  7.000000e+03   \n",
       "mean   3492.113857     4.068351  8.785517e+03    101.086571  9.708764e+04   \n",
       "std    2014.945006     0.299190  6.804892e+04    719.206015  3.069996e+05   \n",
       "min       1.000000     0.000000  1.000000e+02      2.000000  0.000000e+00   \n",
       "25%    1750.750000     3.890000  1.920000e+02      2.000000  3.152750e+03   \n",
       "50%    3500.000000     4.070000  3.150000e+02      4.000000  2.231150e+04   \n",
       "75%    5217.000000     4.250000  9.312500e+02     12.000000  7.816075e+04   \n",
       "max    6990.000000     5.000000  2.314743e+06  23465.000000  7.049026e+06   \n",
       "\n",
       "       sufficient_ratings  sufficient_votes  sufficient_data    high_rank  \n",
       "count         7000.000000            7000.0      7000.000000  7000.000000  \n",
       "mean             0.985000               1.0         0.985000     0.499857  \n",
       "std              0.121561               0.0         0.121561     0.500036  \n",
       "min              0.000000               1.0         0.000000     0.000000  \n",
       "25%              1.000000               1.0         1.000000     0.000000  \n",
       "50%              1.000000               1.0         1.000000     0.000000  \n",
       "75%              1.000000               1.0         1.000000     1.000000  \n",
       "max              1.000000               1.0         1.000000     1.000000  "
      ]
     },
     "execution_count": 36,
     "metadata": {},
     "output_type": "execute_result"
    }
   ],
   "source": [
    "s_votes.describe()"
   ]
  },
  {
   "cell_type": "code",
   "execution_count": 37,
   "metadata": {},
   "outputs": [
    {
     "data": {
      "text/plain": [
       "Text(0, 0.5, 'Log of Frequency')"
      ]
     },
     "execution_count": 37,
     "metadata": {},
     "output_type": "execute_result"
    },
    {
     "data": {
      "image/png": "[encoded data removed]",
      "text/plain": [
       "<Figure size 864x360 with 1 Axes>"
      ]
     },
     "metadata": {},
     "output_type": "display_data"
    }
   ],
   "source": [
    "fig, ax = plt.subplots(figsize=(12,5))\n",
    "ax.hist(s_votes['votes'], bins=100, color='green')\n",
    "ax.axvline(s_votes['votes'].mean(), color='black', linestyle='--')\n",
    "ax.set_title('Votes Histogram for Books with 2+ Votes ')\n",
    "ax.set_yscale('log')\n",
    "ax.set_xlabel('Votes')\n",
    "ax.set_ylabel('Log of Frequency')"
   ]
  },
  {
   "cell_type": "code",
   "execution_count": 38,
   "metadata": {},
   "outputs": [
    {
     "data": {
      "text/plain": [
       "Text(3.05, 1020, 'Mean = 4.068')"
      ]
     },
     "execution_count": 38,
     "metadata": {},
     "output_type": "execute_result"
    },
    {
     "data": {
      "image/png": "[encoded data removed]",
      "text/plain": [
       "<Figure size 864x360 with 1 Axes>"
      ]
     },
     "metadata": {},
     "output_type": "display_data"
    }
   ],
   "source": [
    "fig, ax = plt.subplots(figsize=(12,5))\n",
    "ax.hist(s_votes['rating'], bins=50, color = 'green')\n",
    "ax.axvline(s_votes['rating'].mean(), color='black', linestyle='--')\n",
    "plt.title('Ratings Histogram for Books with 2+ Votes')\n",
    "plt.xlabel('Ratings')\n",
    "plt.ylabel('Frequency')\n",
    "ax.text(3.05, 1020, 'Mean = 4.068', fontsize = 15)"
   ]
  },
  {
   "cell_type": "code",
   "execution_count": 42,
   "metadata": {},
   "outputs": [
    {
     "data": {
      "text/plain": [
       "4.06915738360469"
      ]
     },
     "execution_count": 42,
     "metadata": {},
     "output_type": "execute_result"
    }
   ],
   "source": [
    "# split by high and low rank for plotting\n",
    "s_votes_high = s_votes[s_votes['high_rank'] == 1]['rating'] \n",
    "s_votes_high\n",
    "s_votes_high.mean()\n",
    "s_votes_low = s_votes[s_votes['high_rank'] == 0]['rating'] \n",
    "s_votes_low\n",
    "s_votes_low.mean()"
   ]
  },
  {
   "cell_type": "code",
   "execution_count": 44,
   "metadata": {},
   "outputs": [
    {
     "data": {
      "text/plain": [
       "(0.0, 600.0)"
      ]
     },
     "execution_count": 44,
     "metadata": {},
     "output_type": "execute_result"
    },
    {
     "data": {
      "image/png": "[encoded data removed]",
      "text/plain": [
       "<Figure size 864x360 with 2 Axes>"
      ]
     },
     "metadata": {},
     "output_type": "display_data"
    }
   ],
   "source": [
    "fig, axs = plt.subplots(2, figsize=(12,5))\n",
    "fig.suptitle('Ratings by Rank Level - at least 2 votes')\n",
    "axs[0].hist(s_votes_low, bins=50, color='green')\n",
    "axs[0].axvline(s_votes_low.mean(), color='black', linestyle='--')\n",
    "axs[0].set_title('Low Rank')\n",
    "axs[0].text(3.1, 510, 'Mean = 4.069', fontsize = 10)\n",
    "axs[0].set_xlim(0, 5)\n",
    "axs[0].set_ylim(0, 600)\n",
    "axs[1].hist(s_votes_high, bins=50, color='green')\n",
    "axs[1].axvline(s_votes_high.mean(), color='black', linestyle='--')\n",
    "axs[1].set_title('High Rank')\n",
    "axs[1].text(3.1, 510, 'Mean = 4.068', fontsize = 10)\n",
    "axs[1].set_xlabel('Rating')\n",
    "axs[1].set_xlim(0, 5)\n",
    "axs[1].set_ylim(0, 600)"
   ]
  },
  {
   "cell_type": "code",
   "execution_count": 46,
   "metadata": {},
   "outputs": [
    {
     "data": {
      "text/plain": [
       "count    3501.000000\n",
       "mean        4.069157\n",
       "std         0.320426\n",
       "min         0.000000\n",
       "25%         3.880000\n",
       "50%         4.070000\n",
       "75%         4.250000\n",
       "max         5.000000\n",
       "Name: rating, dtype: float64"
      ]
     },
     "execution_count": 46,
     "metadata": {},
     "output_type": "execute_result"
    }
   ],
   "source": [
    "s_votes_low.describe()"
   ]
  },
  {
   "cell_type": "code",
   "execution_count": 47,
   "metadata": {},
   "outputs": [
    {
     "data": {
      "text/plain": [
       "count    3499.000000\n",
       "mean        4.067545\n",
       "std         0.276358\n",
       "min         1.990000\n",
       "25%         3.900000\n",
       "50%         4.070000\n",
       "75%         4.250000\n",
       "max         5.000000\n",
       "Name: rating, dtype: float64"
      ]
     },
     "execution_count": 47,
     "metadata": {},
     "output_type": "execute_result"
    }
   ],
   "source": [
    "s_votes_high.describe()"
   ]
  },
  {
   "cell_type": "markdown",
   "metadata": {},
   "source": [
    "**Sufficient Data**"
   ]
  },
  {
   "cell_type": "code",
   "execution_count": 58,
   "metadata": {},
   "outputs": [
    {
     "data": {
      "text/plain": [
       "rank                  6895\n",
       "title                 6895\n",
       "author                6895\n",
       "format                6768\n",
       "pages                 6662\n",
       "rating                6895\n",
       "score                 6895\n",
       "votes                 6895\n",
       "release_date          4596\n",
       "new_release_date      6814\n",
       "cnt_ratings           6895\n",
       "sufficient_ratings    6895\n",
       "sufficient_votes      6895\n",
       "sufficient_data       6895\n",
       "high_rank             6895\n",
       "dtype: int64"
      ]
     },
     "execution_count": 58,
     "metadata": {},
     "output_type": "execute_result"
    }
   ],
   "source": [
    "sufficient = data[(data['sufficient_data'] == 1)]\n",
    "sufficient.count()"
   ]
  },
  {
   "cell_type": "code",
   "execution_count": 59,
   "metadata": {},
   "outputs": [
    {
     "name": "stderr",
     "output_type": "stream",
     "text": [
      "/home/shredder/anaconda3/lib/python3.7/site-packages/ipykernel_launcher.py:1: SettingWithCopyWarning: \n",
      "A value is trying to be set on a copy of a slice from a DataFrame.\n",
      "Try using .loc[row_indexer,col_indexer] = value instead\n",
      "\n",
      "See the caveats in the documentation: https://pandas.pydata.org/pandas-docs/stable/user_guide/indexing.html#returning-a-view-versus-a-copy\n",
      "  \"\"\"Entry point for launching an IPython kernel.\n"
     ]
    }
   ],
   "source": [
    "sufficient['high_rank'] = np.where(sufficient['rank'] < (len(sufficient['rank']) / 2), 1, 0)"
   ]
  },
  {
   "cell_type": "code",
   "execution_count": 60,
   "metadata": {},
   "outputs": [
    {
     "name": "stdout",
     "output_type": "stream",
     "text": [
      "<class 'pandas.core.frame.DataFrame'>\n",
      "Int64Index: 6895 entries, 0 to 8534\n",
      "Data columns (total 15 columns):\n",
      " #   Column              Non-Null Count  Dtype  \n",
      "---  ------              --------------  -----  \n",
      " 0   rank                6895 non-null   int64  \n",
      " 1   title               6895 non-null   object \n",
      " 2   author              6895 non-null   object \n",
      " 3   format              6768 non-null   object \n",
      " 4   pages               6662 non-null   object \n",
      " 5   rating              6895 non-null   float64\n",
      " 6   score               6895 non-null   int64  \n",
      " 7   votes               6895 non-null   int64  \n",
      " 8   release_date        4596 non-null   object \n",
      " 9   new_release_date    6814 non-null   object \n",
      " 10  cnt_ratings         6895 non-null   int64  \n",
      " 11  sufficient_ratings  6895 non-null   int64  \n",
      " 12  sufficient_votes    6895 non-null   int64  \n",
      " 13  sufficient_data     6895 non-null   int64  \n",
      " 14  high_rank           6895 non-null   int64  \n",
      "dtypes: float64(1), int64(8), object(6)\n",
      "memory usage: 861.9+ KB\n"
     ]
    }
   ],
   "source": [
    "sufficient.info()"
   ]
  },
  {
   "cell_type": "code",
   "execution_count": 61,
   "metadata": {},
   "outputs": [
    {
     "data": {
      "text/html": [
       "<div>\n",
       "<style scoped>\n",
       "    .dataframe tbody tr th:only-of-type {\n",
       "        vertical-align: middle;\n",
       "    }\n",
       "\n",
       "    .dataframe tbody tr th {\n",
       "        vertical-align: top;\n",
       "    }\n",
       "\n",
       "    .dataframe thead th {\n",
       "        text-align: right;\n",
       "    }\n",
       "</style>\n",
       "<table border=\"1\" class=\"dataframe\">\n",
       "  <thead>\n",
       "    <tr style=\"text-align: right;\">\n",
       "      <th></th>\n",
       "      <th>rank</th>\n",
       "      <th>rating</th>\n",
       "      <th>score</th>\n",
       "      <th>votes</th>\n",
       "      <th>cnt_ratings</th>\n",
       "      <th>sufficient_ratings</th>\n",
       "      <th>sufficient_votes</th>\n",
       "      <th>sufficient_data</th>\n",
       "      <th>high_rank</th>\n",
       "    </tr>\n",
       "  </thead>\n",
       "  <tbody>\n",
       "    <tr>\n",
       "      <th>count</th>\n",
       "      <td>6895.000000</td>\n",
       "      <td>6895.000000</td>\n",
       "      <td>6.895000e+03</td>\n",
       "      <td>6895.000000</td>\n",
       "      <td>6.895000e+03</td>\n",
       "      <td>6895.0</td>\n",
       "      <td>6895.0</td>\n",
       "      <td>6895.0</td>\n",
       "      <td>6895.000000</td>\n",
       "    </tr>\n",
       "    <tr>\n",
       "      <th>mean</th>\n",
       "      <td>3475.160696</td>\n",
       "      <td>4.060464</td>\n",
       "      <td>8.915631e+03</td>\n",
       "      <td>102.587672</td>\n",
       "      <td>9.856605e+04</td>\n",
       "      <td>1.0</td>\n",
       "      <td>1.0</td>\n",
       "      <td>1.0</td>\n",
       "      <td>0.498477</td>\n",
       "    </tr>\n",
       "    <tr>\n",
       "      <th>std</th>\n",
       "      <td>2021.597014</td>\n",
       "      <td>0.280431</td>\n",
       "      <td>6.855694e+04</td>\n",
       "      <td>724.558618</td>\n",
       "      <td>3.090930e+05</td>\n",
       "      <td>0.0</td>\n",
       "      <td>0.0</td>\n",
       "      <td>0.0</td>\n",
       "      <td>0.500034</td>\n",
       "    </tr>\n",
       "    <tr>\n",
       "      <th>min</th>\n",
       "      <td>1.000000</td>\n",
       "      <td>1.610000</td>\n",
       "      <td>1.000000e+02</td>\n",
       "      <td>2.000000</td>\n",
       "      <td>1.000000e+01</td>\n",
       "      <td>1.0</td>\n",
       "      <td>1.0</td>\n",
       "      <td>1.0</td>\n",
       "      <td>0.000000</td>\n",
       "    </tr>\n",
       "    <tr>\n",
       "      <th>25%</th>\n",
       "      <td>1724.500000</td>\n",
       "      <td>3.880000</td>\n",
       "      <td>1.920000e+02</td>\n",
       "      <td>2.000000</td>\n",
       "      <td>3.698500e+03</td>\n",
       "      <td>1.0</td>\n",
       "      <td>1.0</td>\n",
       "      <td>1.0</td>\n",
       "      <td>0.000000</td>\n",
       "    </tr>\n",
       "    <tr>\n",
       "      <th>50%</th>\n",
       "      <td>3460.000000</td>\n",
       "      <td>4.070000</td>\n",
       "      <td>3.240000e+02</td>\n",
       "      <td>4.000000</td>\n",
       "      <td>2.320500e+04</td>\n",
       "      <td>1.0</td>\n",
       "      <td>1.0</td>\n",
       "      <td>1.0</td>\n",
       "      <td>0.000000</td>\n",
       "    </tr>\n",
       "    <tr>\n",
       "      <th>75%</th>\n",
       "      <td>5217.000000</td>\n",
       "      <td>4.240000</td>\n",
       "      <td>9.580000e+02</td>\n",
       "      <td>12.000000</td>\n",
       "      <td>7.984850e+04</td>\n",
       "      <td>1.0</td>\n",
       "      <td>1.0</td>\n",
       "      <td>1.0</td>\n",
       "      <td>1.000000</td>\n",
       "    </tr>\n",
       "    <tr>\n",
       "      <th>max</th>\n",
       "      <td>6990.000000</td>\n",
       "      <td>5.000000</td>\n",
       "      <td>2.314743e+06</td>\n",
       "      <td>23465.000000</td>\n",
       "      <td>7.049026e+06</td>\n",
       "      <td>1.0</td>\n",
       "      <td>1.0</td>\n",
       "      <td>1.0</td>\n",
       "      <td>1.000000</td>\n",
       "    </tr>\n",
       "  </tbody>\n",
       "</table>\n",
       "</div>"
      ],
      "text/plain": [
       "              rank       rating         score         votes   cnt_ratings  \\\n",
       "count  6895.000000  6895.000000  6.895000e+03   6895.000000  6.895000e+03   \n",
       "mean   3475.160696     4.060464  8.915631e+03    102.587672  9.856605e+04   \n",
       "std    2021.597014     0.280431  6.855694e+04    724.558618  3.090930e+05   \n",
       "min       1.000000     1.610000  1.000000e+02      2.000000  1.000000e+01   \n",
       "25%    1724.500000     3.880000  1.920000e+02      2.000000  3.698500e+03   \n",
       "50%    3460.000000     4.070000  3.240000e+02      4.000000  2.320500e+04   \n",
       "75%    5217.000000     4.240000  9.580000e+02     12.000000  7.984850e+04   \n",
       "max    6990.000000     5.000000  2.314743e+06  23465.000000  7.049026e+06   \n",
       "\n",
       "       sufficient_ratings  sufficient_votes  sufficient_data    high_rank  \n",
       "count              6895.0            6895.0           6895.0  6895.000000  \n",
       "mean                  1.0               1.0              1.0     0.498477  \n",
       "std                   0.0               0.0              0.0     0.500034  \n",
       "min                   1.0               1.0              1.0     0.000000  \n",
       "25%                   1.0               1.0              1.0     0.000000  \n",
       "50%                   1.0               1.0              1.0     0.000000  \n",
       "75%                   1.0               1.0              1.0     1.000000  \n",
       "max                   1.0               1.0              1.0     1.000000  "
      ]
     },
     "execution_count": 61,
     "metadata": {},
     "output_type": "execute_result"
    }
   ],
   "source": [
    "sufficient.describe()"
   ]
  },
  {
   "cell_type": "code",
   "execution_count": 52,
   "metadata": {},
   "outputs": [
    {
     "data": {
      "text/plain": [
       "4.060464104423512"
      ]
     },
     "execution_count": 52,
     "metadata": {},
     "output_type": "execute_result"
    }
   ],
   "source": [
    "sufficient['rating'].mean()"
   ]
  },
  {
   "cell_type": "code",
   "execution_count": 54,
   "metadata": {},
   "outputs": [
    {
     "data": {
      "image/png": "[encoded data removed]",
      "text/plain": [
       "<Figure size 576x360 with 1 Axes>"
      ]
     },
     "metadata": {},
     "output_type": "display_data"
    }
   ],
   "source": [
    "fig, ax = plt.subplots(figsize=(8,5))\n",
    "ax.hist(sufficient['rating'], bins=50, color = 'green')\n",
    "ax.axvline(sufficient['rating'].mean(), color='black', linestyle='--')\n",
    "plt.title('Ratings Histogram for Books with 2+ Votes and 10+ Ratings')\n",
    "plt.xlabel('Ratings')\n",
    "plt.ylabel('Frequency')\n",
    "ax.text(3.05, 710, 'Mean = 4.060', fontsize = 15)\n",
    "plt.savefig('img/sufficient_ratings_histogram.png')"
   ]
  },
  {
   "cell_type": "code",
   "execution_count": 63,
   "metadata": {
    "scrolled": true
   },
   "outputs": [
    {
     "data": {
      "text/plain": [
       "count    3458.000000\n",
       "mean        4.054702\n",
       "std         0.285354\n",
       "min         1.610000\n",
       "25%         3.870000\n",
       "50%         4.070000\n",
       "75%         4.230000\n",
       "max         5.000000\n",
       "Name: rating, dtype: float64"
      ]
     },
     "execution_count": 63,
     "metadata": {},
     "output_type": "execute_result"
    }
   ],
   "source": [
    "# sufficient_high_rating = sufficient[sufficient['high_rank'] == 1]['rating'] \n",
    "# sufficient_high_rating.describe()\n",
    "sufficient_low_rating = sufficient[sufficient['high_rank'] == 0]['rating'] \n",
    "sufficient_low_rating.describe()"
   ]
  },
  {
   "cell_type": "code",
   "execution_count": 64,
   "metadata": {},
   "outputs": [
    {
     "data": {
      "image/png": "[encoded data removed]",
      "text/plain": [
       "<Figure size 576x360 with 2 Axes>"
      ]
     },
     "metadata": {},
     "output_type": "display_data"
    }
   ],
   "source": [
    "fig, axs = plt.subplots(2, figsize=(8,5))\n",
    "fig.suptitle('Ratings by Rank Level for Books with 2+ Votes and 10+ Ratings')\n",
    "axs[0].hist(sufficient_low_rating, bins=50, color='green')\n",
    "axs[0].axvline(sufficient_low_rating.mean(), color='black', linestyle='--')\n",
    "axs[0].set_title('Low Rank')\n",
    "axs[0].text(3.1, 410, 'Mean = 4.055', fontsize = 10)\n",
    "axs[0].set_xlim(0, 5)\n",
    "axs[0].set_ylim(0, 500)\n",
    "axs[0].set_ylabel('Frequency')\n",
    "axs[1].hist(sufficient_high_rating, bins=50, color='green')\n",
    "axs[1].axvline(sufficient_high_rating.mean(), color='black', linestyle='--')\n",
    "axs[1].set_title('High Rank')\n",
    "axs[1].text(3.1, 410, 'Mean = 4.066', fontsize = 10)\n",
    "axs[1].set_xlabel('Rating')\n",
    "axs[1].set_ylabel('Frequency')\n",
    "axs[1].set_xlim(0, 5)\n",
    "axs[1].set_ylim(0, 500)\n",
    "plt.savefig('img/sufficient_ratings_by_rank_histogram.png')"
   ]
  },
  {
   "cell_type": "code",
   "execution_count": 11,
   "metadata": {},
   "outputs": [
    {
     "data": {
      "image/png": "[encoded data removed]",
      "text/plain": [
       "<Figure size 864x360 with 1 Axes>"
      ]
     },
     "metadata": {},
     "output_type": "display_data"
    }
   ],
   "source": [
    "fig, ax = plt.subplots(figsize=(12, 5))\n",
    "ax.scatter(sufficient['score'], sufficient['rating'], color = 'green')\n",
    "ax.set_title(\"Scatter Plot of Log Score by Rating for Books with 2+ Votes and 10+ Ratings\")\n",
    "ax.axhline(4.060, color='blue', linestyle='--', label='Ratings Mean = 4.06')\n",
    "ax.set_xlabel(\"Log of Score\")\n",
    "ax.set_ylabel(\"Rating\")\n",
    "ax.set_xscale('log')\n",
    "ax.legend(loc='best')\n",
    "plt.savefig('img/sufficient_scatter_rating_score.png')"
   ]
  },
  {
   "cell_type": "code",
   "execution_count": 12,
   "metadata": {},
   "outputs": [
    {
     "data": {
      "image/png": "[encoded data removed]",
      "text/plain": [
       "<Figure size 864x360 with 1 Axes>"
      ]
     },
     "metadata": {},
     "output_type": "display_data"
    }
   ],
   "source": [
    "# y-axis begin at 2.5 instead of 0 (centers the figure)\n",
    "fig, ax = plt.subplots(figsize=(12, 5))\n",
    "ax.scatter(sufficient['score'], sufficient['rating'], color = 'green')\n",
    "ax.set_title(\"Scatter Plot of Log Score by Rating for Books with 2+ Votes and 10+ Ratings\")\n",
    "ax.axhline(4.060, color='blue', linestyle='--', label='Ratings Mean = 4.06')\n",
    "ax.set_xlabel(\"Log of Score\")\n",
    "ax.set_ylabel(\"Rating\")\n",
    "ax.set_xscale('log')\n",
    "ax.set_ylim(2.5, 5.5)\n",
    "ax.legend(loc='best')\n",
    "plt.savefig('img/sufficient_scatter_rating_score_2.png')"
   ]
  },
  {
   "cell_type": "code",
   "execution_count": 65,
   "metadata": {
    "scrolled": true
   },
   "outputs": [
    {
     "data": {
      "text/plain": [
       "count    3458.000000\n",
       "mean        4.054702\n",
       "std         0.285354\n",
       "min         1.610000\n",
       "25%         3.870000\n",
       "50%         4.070000\n",
       "75%         4.230000\n",
       "max         5.000000\n",
       "Name: rating, dtype: float64"
      ]
     },
     "execution_count": 65,
     "metadata": {},
     "output_type": "execute_result"
    }
   ],
   "source": [
    "sufficient_low_rating.describe()"
   ]
  },
  {
   "cell_type": "code",
   "execution_count": 66,
   "metadata": {},
   "outputs": [
    {
     "data": {
      "text/plain": [
       "count    3437.000000\n",
       "mean        4.066261\n",
       "std         0.275309\n",
       "min         1.990000\n",
       "25%         3.900000\n",
       "50%         4.070000\n",
       "75%         4.250000\n",
       "max         5.000000\n",
       "Name: rating, dtype: float64"
      ]
     },
     "execution_count": 66,
     "metadata": {},
     "output_type": "execute_result"
    }
   ],
   "source": [
    "sufficient_high_rating.describe()"
   ]
  },
  {
   "cell_type": "code",
   "execution_count": 67,
   "metadata": {},
   "outputs": [],
   "source": [
    "data.to_csv('data/data_set_sufficient.csv', index=False)"
   ]
  },
  {
   "cell_type": "markdown",
   "metadata": {},
   "source": [
    "**Create a rank category if there is time later**"
   ]
  },
  {
   "cell_type": "code",
   "execution_count": 74,
   "metadata": {},
   "outputs": [
    {
     "data": {
      "text/html": [
       "<div>\n",
       "<style scoped>\n",
       "    .dataframe tbody tr th:only-of-type {\n",
       "        vertical-align: middle;\n",
       "    }\n",
       "\n",
       "    .dataframe tbody tr th {\n",
       "        vertical-align: top;\n",
       "    }\n",
       "\n",
       "    .dataframe thead th {\n",
       "        text-align: right;\n",
       "    }\n",
       "</style>\n",
       "<table border=\"1\" class=\"dataframe\">\n",
       "  <thead>\n",
       "    <tr style=\"text-align: right;\">\n",
       "      <th></th>\n",
       "      <th>rank</th>\n",
       "      <th>title</th>\n",
       "      <th>author</th>\n",
       "      <th>format</th>\n",
       "      <th>pages</th>\n",
       "      <th>rating</th>\n",
       "      <th>score</th>\n",
       "      <th>votes</th>\n",
       "      <th>release_date</th>\n",
       "      <th>new_release_date</th>\n",
       "      <th>cnt_ratings</th>\n",
       "      <th>high_rank</th>\n",
       "      <th>rank_cat</th>\n",
       "    </tr>\n",
       "  </thead>\n",
       "  <tbody>\n",
       "    <tr>\n",
       "      <th>7796</th>\n",
       "      <td>6990</td>\n",
       "      <td>Memoirs of a Dutiful Daughter</td>\n",
       "      <td>Simone de Beauvoir</td>\n",
       "      <td>Paperback</td>\n",
       "      <td>359 pages</td>\n",
       "      <td>4.14</td>\n",
       "      <td>score: 100</td>\n",
       "      <td>2</td>\n",
       "      <td>(first published January 1st 1958)</td>\n",
       "      <td>Published\\n        August 2nd 2005\\n         b...</td>\n",
       "      <td>9728</td>\n",
       "      <td>0</td>\n",
       "      <td>6</td>\n",
       "    </tr>\n",
       "    <tr>\n",
       "      <th>8042</th>\n",
       "      <td>6990</td>\n",
       "      <td>Everything Flows</td>\n",
       "      <td>Vasily Grossman</td>\n",
       "      <td>Paperback</td>\n",
       "      <td>253 pages</td>\n",
       "      <td>4.16</td>\n",
       "      <td>score: 100</td>\n",
       "      <td>2</td>\n",
       "      <td>(first published 1970)</td>\n",
       "      <td>Published\\n        December 1st 2009\\n        ...</td>\n",
       "      <td>2653</td>\n",
       "      <td>0</td>\n",
       "      <td>6</td>\n",
       "    </tr>\n",
       "    <tr>\n",
       "      <th>8050</th>\n",
       "      <td>6990</td>\n",
       "      <td>NGLND XPX</td>\n",
       "      <td>Ian Hutson</td>\n",
       "      <td>Kindle Edition</td>\n",
       "      <td>NaN</td>\n",
       "      <td>4.49</td>\n",
       "      <td>score: 100</td>\n",
       "      <td>17</td>\n",
       "      <td>NaN</td>\n",
       "      <td>Published\\n        October 11th 2013\\n        ...</td>\n",
       "      <td>133</td>\n",
       "      <td>0</td>\n",
       "      <td>6</td>\n",
       "    </tr>\n",
       "    <tr>\n",
       "      <th>8224</th>\n",
       "      <td>6990</td>\n",
       "      <td>Unlimited Power: The New Science Of Personal A...</td>\n",
       "      <td>Anthony Robbins</td>\n",
       "      <td>Paperback</td>\n",
       "      <td>448 pages</td>\n",
       "      <td>4.23</td>\n",
       "      <td>score: 100</td>\n",
       "      <td>2</td>\n",
       "      <td>(first published 1986)</td>\n",
       "      <td>Published\\n        December 22nd 1997\\n       ...</td>\n",
       "      <td>29564</td>\n",
       "      <td>0</td>\n",
       "      <td>6</td>\n",
       "    </tr>\n",
       "    <tr>\n",
       "      <th>8534</th>\n",
       "      <td>6990</td>\n",
       "      <td>The Pox Party (The Astonishing Life of Octavia...</td>\n",
       "      <td>M.T. Anderson</td>\n",
       "      <td>Hardcover</td>\n",
       "      <td>351 pages</td>\n",
       "      <td>3.50</td>\n",
       "      <td>score: 100</td>\n",
       "      <td>2</td>\n",
       "      <td>NaN</td>\n",
       "      <td>Published\\n        September 12th 2006\\n      ...</td>\n",
       "      <td>14322</td>\n",
       "      <td>0</td>\n",
       "      <td>6</td>\n",
       "    </tr>\n",
       "  </tbody>\n",
       "</table>\n",
       "</div>"
      ],
      "text/plain": [
       "      rank                                              title  \\\n",
       "7796  6990                      Memoirs of a Dutiful Daughter   \n",
       "8042  6990                                   Everything Flows   \n",
       "8050  6990                                          NGLND XPX   \n",
       "8224  6990  Unlimited Power: The New Science Of Personal A...   \n",
       "8534  6990  The Pox Party (The Astonishing Life of Octavia...   \n",
       "\n",
       "                  author          format      pages  rating       score  \\\n",
       "7796  Simone de Beauvoir       Paperback  359 pages    4.14  score: 100   \n",
       "8042     Vasily Grossman       Paperback  253 pages    4.16  score: 100   \n",
       "8050          Ian Hutson  Kindle Edition        NaN    4.49  score: 100   \n",
       "8224     Anthony Robbins       Paperback  448 pages    4.23  score: 100   \n",
       "8534       M.T. Anderson       Hardcover  351 pages    3.50  score: 100   \n",
       "\n",
       "      votes                        release_date  \\\n",
       "7796      2  (first published January 1st 1958)   \n",
       "8042      2              (first published 1970)   \n",
       "8050     17                                 NaN   \n",
       "8224      2              (first published 1986)   \n",
       "8534      2                                 NaN   \n",
       "\n",
       "                                       new_release_date  cnt_ratings  \\\n",
       "7796  Published\\n        August 2nd 2005\\n         b...         9728   \n",
       "8042  Published\\n        December 1st 2009\\n        ...         2653   \n",
       "8050  Published\\n        October 11th 2013\\n        ...          133   \n",
       "8224  Published\\n        December 22nd 1997\\n       ...        29564   \n",
       "8534  Published\\n        September 12th 2006\\n      ...        14322   \n",
       "\n",
       "      high_rank  rank_cat  \n",
       "7796          0         6  \n",
       "8042          0         6  \n",
       "8050          0         6  \n",
       "8224          0         6  \n",
       "8534          0         6  "
      ]
     },
     "execution_count": 74,
     "metadata": {},
     "output_type": "execute_result"
    }
   ],
   "source": [
    "# create a rank category column for pairwise comparisons\n",
    "rank_cat = []\n",
    "for ranking in sufficient['rank']:\n",
    "    if ranking < 201:\n",
    "        rank_cat.append(1)\n",
    "    elif ranking < 401:\n",
    "        rank_cat.append(2)\n",
    "    elif ranking < 601:\n",
    "        rank_cat.append(3)\n",
    "    elif ranking < 801:\n",
    "        rank_cat.append(4)\n",
    "    elif ranking < 1001:\n",
    "        rank_cat.append(5)\n",
    "    else:\n",
    "        rank_cat.append(6)\n",
    "        \n",
    "sufficient['rank_cat'] = rank_cat\n",
    "# sufficient.head()\n",
    "# sufficient.tail()"
   ]
  },
  {
   "cell_type": "code",
   "execution_count": 92,
   "metadata": {},
   "outputs": [
    {
     "data": {
      "text/plain": [
       "0      4.28\n",
       "1      4.47\n",
       "2      4.19\n",
       "3      4.26\n",
       "4      4.15\n",
       "       ... \n",
       "195    4.01\n",
       "196    3.82\n",
       "197    3.89\n",
       "198    4.36\n",
       "199    3.77\n",
       "Name: rating, Length: 200, dtype: float64"
      ]
     },
     "execution_count": 92,
     "metadata": {},
     "output_type": "execute_result"
    }
   ],
   "source": [
    "s_rankcat_1 = sufficient[sufficient['rank_cat'] == 1]['rating']\n",
    "s_rankcat_2 = sufficient[sufficient['rank_cat'] == 2]['rating'] \n",
    "s_rankcat_3 = sufficient[sufficient['rank_cat'] == 3]['rating'] \n",
    "s_rankcat_4 = sufficient[sufficient['rank_cat'] == 4]['rating'] \n",
    "s_rankcat_5 = sufficient[sufficient['rank_cat'] == 5]['rating'] \n",
    "s_rankcat_6 = sufficient[sufficient['rank_cat'] == 6]['rating'] \n",
    "s_rankcat_1"
   ]
  },
  {
   "cell_type": "markdown",
   "metadata": {},
   "source": [
    "***Hypothesis Tests***\n",
    "\n",
    "**Full data set**"
   ]
  },
  {
   "cell_type": "code",
   "execution_count": 68,
   "metadata": {},
   "outputs": [],
   "source": [
    "t, p = stats.ttest_ind(low_rating, high_rating, equal_var=False)"
   ]
  },
  {
   "cell_type": "code",
   "execution_count": 69,
   "metadata": {},
   "outputs": [
    {
     "data": {
      "text/plain": [
       "0.3699258671086914"
      ]
     },
     "execution_count": 69,
     "metadata": {},
     "output_type": "execute_result"
    }
   ],
   "source": [
    "t"
   ]
  },
  {
   "cell_type": "code",
   "execution_count": 70,
   "metadata": {},
   "outputs": [
    {
     "data": {
      "text/plain": [
       "0.71144828851114"
      ]
     },
     "execution_count": 70,
     "metadata": {},
     "output_type": "execute_result"
    }
   ],
   "source": [
    "p"
   ]
  },
  {
   "cell_type": "markdown",
   "metadata": {},
   "source": [
    "There is no difference between the higher and lower ranked books when all books are included p=0.71"
   ]
  },
  {
   "cell_type": "markdown",
   "metadata": {},
   "source": [
    "**Sufficient data set** - Tests for subset data to 2+ votes and 10+ ratings\n",
    "\n",
    "Testing if there is an overall difference"
   ]
  },
  {
   "cell_type": "code",
   "execution_count": 71,
   "metadata": {},
   "outputs": [],
   "source": [
    "t, p = stats.ttest_ind(sufficient_low_rating, sufficient_high_rating, equal_var=False)"
   ]
  },
  {
   "cell_type": "code",
   "execution_count": 72,
   "metadata": {},
   "outputs": [
    {
     "data": {
      "text/plain": [
       "-1.7117592960585983"
      ]
     },
     "execution_count": 72,
     "metadata": {},
     "output_type": "execute_result"
    }
   ],
   "source": [
    "t"
   ]
  },
  {
   "cell_type": "code",
   "execution_count": 73,
   "metadata": {
    "scrolled": true
   },
   "outputs": [
    {
     "data": {
      "text/plain": [
       "0.0869860591709942"
      ]
     },
     "execution_count": 73,
     "metadata": {},
     "output_type": "execute_result"
    }
   ],
   "source": [
    "p"
   ]
  },
  {
   "cell_type": "code",
   "execution_count": 109,
   "metadata": {},
   "outputs": [],
   "source": [
    "def welch_test_statistic(sample_1, sample_2):\n",
    "    numerator = np.mean(sample_1) - np.mean(sample_2)\n",
    "    denominator_sq = (np.var(sample_1) / len(sample_1)) + \\\n",
    "                        (np.var(sample_2) / len(sample_2))\n",
    "    return numerator / np.sqrt(denominator_sq)"
   ]
  },
  {
   "cell_type": "code",
   "execution_count": 110,
   "metadata": {},
   "outputs": [
    {
     "data": {
      "text/plain": [
       "-1.712007588543692"
      ]
     },
     "execution_count": 110,
     "metadata": {},
     "output_type": "execute_result"
    }
   ],
   "source": [
    "test_statistic = welch_test_statistic(sufficient_low_rating, sufficient_high_rating)\n",
    "test_statistic"
   ]
  },
  {
   "cell_type": "code",
   "execution_count": 111,
   "metadata": {},
   "outputs": [
    {
     "data": {
      "text/plain": [
       "6886.910941890413"
      ]
     },
     "execution_count": 111,
     "metadata": {},
     "output_type": "execute_result"
    }
   ],
   "source": [
    "def welch_satterhwaithe_df(sample_1, sample_2):\n",
    "    ss1 = len(sample_1)\n",
    "    ss2 = len(sample_2)\n",
    "    df = (\n",
    "        ((np.var(sample_1)/ss1 + np.var(sample_2)/ss2)**(2.0)) / \n",
    "        ((np.var(sample_1)/ss1)**(2.0)/(ss1 - 1) + (np.var(sample_2)/ss2)**(2.0)/(ss2 - 1))\n",
    "    )\n",
    "    return df\n",
    "\n",
    "df = welch_satterhwaithe_df(sufficient_low_rating, sufficient_high_rating)\n",
    "df"
   ]
  },
  {
   "cell_type": "code",
   "execution_count": 132,
   "metadata": {},
   "outputs": [
    {
     "data": {
      "text/plain": [
       "0.08720531363844544"
      ]
     },
     "execution_count": 132,
     "metadata": {},
     "output_type": "execute_result"
    }
   ],
   "source": [
    "students = stats.t(df)\n",
    "\n",
    "test_statistic = welch_test_statistic(sufficient_low_rating, sufficient_high_rating)\n",
    "\n",
    "p_value = students.cdf(test_statistic) + (1-students.cdf(-test_statistic))\n",
    "p_value"
   ]
  },
  {
   "cell_type": "code",
   "execution_count": 140,
   "metadata": {},
   "outputs": [
    {
     "data": {
      "image/png": "[encoded data removed]",
      "text/plain": [
       "<Figure size 1152x216 with 1 Axes>"
      ]
     },
     "metadata": {},
     "output_type": "display_data"
    }
   ],
   "source": [
    "# Distribution of Welsh's Test Statistic Under the Null Hypothesis\n",
    "x = np.linspace(-3, 3, num=250)\n",
    "\n",
    "fig, ax = plt.subplots(1, figsize=(16, 3))\n",
    "students = stats.t(df)\n",
    "ax.plot(x, students.pdf(x), linewidth=2, label=\"Degree of Freedom: {:2.2f}\".format(df), color='green')\n",
    "ax.fill_between(x, students.pdf(x), where=(x < test_statistic), color=\"green\", alpha=0.25)\n",
    "ax.fill_between(x, students.pdf(x), where=(x > -test_statistic), color=\"green\", alpha=0.25)\n",
    "ax.legend()\n",
    "ax.set_title(\"Distribution of Welsh's T-Statistic Under Hypothesis that Low Ranked Boooks are Rated the Same as Higher Ranked\");\n",
    "ax.set_xlabel('t-statistic')\n",
    "ax.set_ylabel('Density')\n",
    "# ax.text(-1.99, 0.14, 't = -1.71', fontsize = 10)\n",
    "# ax.text(-1.99, 0.11, 'p = 0.09', fontsize = 10)\n",
    "plt.savefig('img/2_sided_ttest_distribution.png')"
   ]
  },
  {
   "cell_type": "markdown",
   "metadata": {},
   "source": [
    "There is a borderline difference between the higher and lower ranked books when low ratings and votes are filtered\n",
    "out\n",
    "p=0.09"
   ]
  },
  {
   "cell_type": "markdown",
   "metadata": {},
   "source": [
    "Testing if the higher ranked books have a higher rating"
   ]
  },
  {
   "cell_type": "code",
   "execution_count": 124,
   "metadata": {},
   "outputs": [
    {
     "data": {
      "text/plain": [
       "-1.712007588543692"
      ]
     },
     "execution_count": 124,
     "metadata": {},
     "output_type": "execute_result"
    }
   ],
   "source": [
    "oneside_test_statistic = welch_test_statistic(sufficient_low_rating, sufficient_high_rating)\n",
    "oneside_test_statistic"
   ]
  },
  {
   "cell_type": "code",
   "execution_count": 125,
   "metadata": {},
   "outputs": [
    {
     "data": {
      "text/plain": [
       "6886.910941890413"
      ]
     },
     "execution_count": 125,
     "metadata": {},
     "output_type": "execute_result"
    }
   ],
   "source": [
    "oneside_df = welch_satterhwaithe_df(sufficient_low_rating, sufficient_high_rating)\n",
    "oneside_df"
   ]
  },
  {
   "cell_type": "code",
   "execution_count": 126,
   "metadata": {},
   "outputs": [
    {
     "data": {
      "text/plain": [
       "0.04347014510358399"
      ]
     },
     "execution_count": 126,
     "metadata": {},
     "output_type": "execute_result"
    }
   ],
   "source": [
    "students = stats.t(oneside_df)\n",
    "\n",
    "oneside_test_statistic = welch_test_statistic(sufficient_low_rating, sufficient_high_rating)\n",
    "\n",
    "oneside_p_value = students.cdf(oneside_test_statistic)\n",
    "oneside_p_value"
   ]
  },
  {
   "cell_type": "code",
   "execution_count": 108,
   "metadata": {},
   "outputs": [
    {
     "data": {
      "image/png": "[encoded data removed]",
      "text/plain": [
       "<Figure size 1152x216 with 1 Axes>"
      ]
     },
     "metadata": {},
     "output_type": "display_data"
    }
   ],
   "source": [
    "# Distribution of Welsh's Test Statistic Under the Null Hypothesis\n",
    "x = np.linspace(-3, 3, num=250)\n",
    "\n",
    "fig, ax = plt.subplots(1, figsize=(16, 3))\n",
    "students = stats.t(df)\n",
    "ax.plot(x, students.pdf(x), linewidth=2, label=\"Degree of Freedom: {:2.2f}\".format(df))\n",
    "ax.fill_between(x, students.pdf(x), where=(x < test_statistic), color=\"red\", alpha=0.25)\n",
    "ax.legend()\n",
    "ax.set_title(\"Distribution of Welsh's T-Statistic Under Hypothesis that Low Ranked Boooks are Rated the Same as Higher Ranked\");\n",
    "ax.set_xlabel('t-statistic')\n",
    "ax.set_ylabel('Density')\n",
    "ax.text(-1.99, 0.14, 't = -1.71', fontsize = 10)\n",
    "ax.text(-1.99, 0.11, 'p = 0.04', fontsize = 10)\n",
    "plt.savefig('img/ttest_distribution.png')"
   ]
  },
  {
   "cell_type": "markdown",
   "metadata": {},
   "source": [
    "When doing a one-sided test higher ranked books are rated higher when the data is cleaned up a bit\n",
    "p=0.04"
   ]
  },
  {
   "cell_type": "markdown",
   "metadata": {},
   "source": [
    "Testing using the non-parametric Mann-Whitney test"
   ]
  },
  {
   "cell_type": "code",
   "execution_count": 114,
   "metadata": {},
   "outputs": [],
   "source": [
    "def count_winning_pairs(sample_1, sample_2):\n",
    "    sample_1, sample_2 = np.array(sample_1), np.array(sample_2)\n",
    "    n_total_wins = 0\n",
    "    for x in sample_1:\n",
    "        n_wins = np.sum(x > sample_2) + 0.5*np.sum(x == sample_2)\n",
    "        n_total_wins += n_wins\n",
    "    return n_total_wins"
   ]
  },
  {
   "cell_type": "code",
   "execution_count": 115,
   "metadata": {},
   "outputs": [
    {
     "name": "stdout",
     "output_type": "stream",
     "text": [
      "Number of Low Rated Wins: 5764273.0\n",
      "Number of High Rated Wins: 6120873.0\n"
     ]
    }
   ],
   "source": [
    "low_wins = count_winning_pairs(sufficient_low_rating, sufficient_high_rating)\n",
    "high_wins = count_winning_pairs(sufficient_high_rating, sufficient_low_rating)\n",
    "print(\"Number of Low Rated Wins: {}\".format(low_wins))\n",
    "print(\"Number of High Rated Wins: {}\".format(high_wins))"
   ]
  },
  {
   "cell_type": "code",
   "execution_count": 116,
   "metadata": {},
   "outputs": [
    {
     "data": {
      "text/plain": [
       "MannwhitneyuResult(statistic=5764273.0, pvalue=0.015479580434160463)"
      ]
     },
     "execution_count": 116,
     "metadata": {},
     "output_type": "execute_result"
    }
   ],
   "source": [
    "res = stats.mannwhitneyu(sufficient_low_rating, sufficient_high_rating, alternative=\"less\")\n",
    "res"
   ]
  },
  {
   "cell_type": "markdown",
   "metadata": {},
   "source": [
    "Using the MannWhitney test the higher ranked books are also higher rated - by an even larger p-value\n",
    "p=0.02"
   ]
  },
  {
   "cell_type": "markdown",
   "metadata": {},
   "source": [
    "Pairwise comparisons of rank categories of the top 5 tiers of books (200 each)"
   ]
  },
  {
   "cell_type": "markdown",
   "metadata": {},
   "source": [
    "This is using the one way Anova test, but because I can't gaurantee equal variances this is not valid"
   ]
  },
  {
   "cell_type": "code",
   "execution_count": 93,
   "metadata": {},
   "outputs": [
    {
     "data": {
      "text/plain": [
       "F_onewayResult(statistic=1.5012725918050218, pvalue=0.19966768977813087)"
      ]
     },
     "execution_count": 93,
     "metadata": {},
     "output_type": "execute_result"
    }
   ],
   "source": [
    "stats.f_oneway(s_rankcat_1, s_rankcat_2, s_rankcat_3, s_rankcat_4, s_rankcat_5)"
   ]
  },
  {
   "cell_type": "code",
   "execution_count": 94,
   "metadata": {},
   "outputs": [
    {
     "data": {
      "text/plain": [
       "F_onewayResult(statistic=2.22754009663297, pvalue=0.04884117459251478)"
      ]
     },
     "execution_count": 94,
     "metadata": {},
     "output_type": "execute_result"
    }
   ],
   "source": [
    "stats.f_oneway(s_rankcat_1, s_rankcat_2, s_rankcat_3, s_rankcat_4, s_rankcat_5, s_rankcat_6)"
   ]
  },
  {
   "cell_type": "code",
   "execution_count": null,
   "metadata": {},
   "outputs": [],
   "source": []
  }
 ],
 "metadata": {
  "kernelspec": {
   "display_name": "Python 3",
   "language": "python",
   "name": "python3"
  },
  "language_info": {
   "codemirror_mode": {
    "name": "ipython",
    "version": 3
   },
   "file_extension": ".py",
   "mimetype": "text/x-python",
   "name": "python",
   "nbconvert_exporter": "python",
   "pygments_lexer": "ipython3",
   "version": "3.7.9"
  }
 },
 "nbformat": 4,
 "nbformat_minor": 4
}
