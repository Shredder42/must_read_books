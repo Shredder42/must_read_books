{
 "cells": [
  {
   "cell_type": "code",
   "execution_count": 2,
   "metadata": {},
   "outputs": [],
   "source": [
    "from pymongo import MongoClient\n",
    "import pprint\n",
    "import pandas as pd\n",
    "import requests\n",
    "from bs4 import BeautifulSoup\n",
    "import json\n",
    "import time"
   ]
  },
  {
   "cell_type": "markdown",
   "metadata": {},
   "source": [
    "Request the URL"
   ]
  },
  {
   "cell_type": "code",
   "execution_count": 3,
   "metadata": {},
   "outputs": [],
   "source": [
    "url = 'https://www.goodreads.com/list/show/264.Books_That_Everyone_Should_Read_At_Least_Once?page=1'\n",
    "r = requests.get(url)"
   ]
  },
  {
   "cell_type": "code",
   "execution_count": 4,
   "metadata": {},
   "outputs": [
    {
     "data": {
      "text/plain": [
       "200"
      ]
     },
     "execution_count": 4,
     "metadata": {},
     "output_type": "execute_result"
    }
   ],
   "source": [
    "r.status_code "
   ]
  },
  {
   "cell_type": "markdown",
   "metadata": {},
   "source": [
    "Save into MongoDB"
   ]
  },
  {
   "cell_type": "code",
   "execution_count": 5,
   "metadata": {},
   "outputs": [],
   "source": [
    "client = MongoClient()\n",
    "db = client.goodreads"
   ]
  },
  {
   "cell_type": "code",
   "execution_count": 6,
   "metadata": {},
   "outputs": [],
   "source": [
    "page1 = db.must_read_books"
   ]
  },
  {
   "cell_type": "code",
   "execution_count": 8,
   "metadata": {},
   "outputs": [
    {
     "data": {
      "text/plain": [
       "<pymongo.results.InsertOneResult at 0x7f4c502c7f00>"
      ]
     },
     "execution_count": 8,
     "metadata": {},
     "output_type": "execute_result"
    }
   ],
   "source": [
    "page1.insert_one({'html': r.text})"
   ]
  },
  {
   "cell_type": "markdown",
   "metadata": {},
   "source": [
    "Parse text to get data"
   ]
  },
  {
   "cell_type": "code",
   "execution_count": 10,
   "metadata": {},
   "outputs": [],
   "source": [
    "soup = BeautifulSoup(r.text, 'html.parser')"
   ]
  },
  {
   "cell_type": "markdown",
   "metadata": {},
   "source": [
    "This should give me everything that is in the entry for each book - only indexing the first one"
   ]
  },
  {
   "cell_type": "code",
   "execution_count": 11,
   "metadata": {},
   "outputs": [
    {
     "data": {
      "text/plain": [
       "<tr itemscope=\"\" itemtype=\"http://schema.org/Book\">\n",
       "<td class=\"number\" valign=\"top\">1</td>\n",
       "<td valign=\"top\" width=\"5%\">\n",
       "<div class=\"u-anchorTarget\" id=\"2657\"></div>\n",
       "<div class=\"js-tooltipTrigger tooltipTrigger\" data-resource-id=\"2657\" data-resource-type=\"Book\">\n",
       "<a href=\"/book/show/2657.To_Kill_a_Mockingbird\" title=\"To Kill a Mockingbird\">\n",
       "<img alt=\"To Kill a Mockingbird\" class=\"bookCover\" itemprop=\"image\" src=\"https://i.gr-assets.com/images/S/compressed.photo.goodreads.com/books/1553383690i/2657._SY75_.jpg\"/>\n",
       "</a> </div>\n",
       "</td>\n",
       "<td valign=\"top\" width=\"100%\">\n",
       "<a class=\"bookTitle\" href=\"/book/show/2657.To_Kill_a_Mockingbird\" itemprop=\"url\">\n",
       "<span aria-level=\"4\" itemprop=\"name\" role=\"heading\">To Kill a Mockingbird</span>\n",
       "</a> <br>\n",
       "<span class=\"by\">by</span>\n",
       "<span itemprop=\"author\" itemscope=\"\" itemtype=\"http://schema.org/Person\">\n",
       "<div class=\"authorName__container\">\n",
       "<a class=\"authorName\" href=\"https://www.goodreads.com/author/show/1825.Harper_Lee\" itemprop=\"url\"><span itemprop=\"name\">Harper Lee</span></a>\n",
       "</div>\n",
       "</span>\n",
       "<br/>\n",
       "<div>\n",
       "<span class=\"greyText smallText uitext\">\n",
       "<span class=\"minirating\"><span class=\"stars staticStars notranslate\"><span class=\"staticStar p10\" size=\"12x12\"></span><span class=\"staticStar p10\" size=\"12x12\"></span><span class=\"staticStar p10\" size=\"12x12\"></span><span class=\"staticStar p10\" size=\"12x12\"></span><span class=\"staticStar p3\" size=\"12x12\"></span></span> 4.28 avg rating — 4,499,968 ratings</span>\n",
       "</span>\n",
       "</div>\n",
       "<div style=\"margin-top: 5px\">\n",
       "<span class=\"smallText uitext\">\n",
       "<a href=\"#\" onclick=\"Lightbox.showBoxByID('score_explanation', 300); return false;\">score: 2,314,644</a>,\n",
       "              <span class=\"greyText\">and</span>\n",
       "<a href=\"#\" id=\"loading_link_976347\" onclick=\"new Ajax.Request('/list/list_book/6011590', {asynchronous:true, evalScripts:true, onFailure:function(request){Element.hide('loading_anim_976347');$('loading_link_976347').innerHTML = '&lt;span class=&quot;error&quot;&gt;ERROR&lt;/span&gt;try again';$('loading_link_976347').show();}, onLoading:function(request){;Element.show('loading_anim_976347');Element.hide('loading_link_976347')}, onSuccess:function(request){Element.hide('loading_anim_976347');Element.show('loading_link_976347');}, parameters:'authenticity_token=' + encodeURIComponent('LHRjgdMKCzLGVANKf6o/117roqbICa+nppGxhrBx6HW6Qsvlul4bB5hLz/1QTZX2jxgKCa1XtuqB6uka7Gqnsg==')}); return false;\">23,464 people voted</a><img alt=\"Loading trans\" class=\"loading\" id=\"loading_anim_976347\" src=\"https://s.gr-assets.com/assets/loading-trans-ced157046184c3bc7c180ffbfc6825a4.gif\" style=\"display:none\"/>\n",
       "               \n",
       "              \n",
       "            </span>\n",
       "</div>\n",
       "</br></td>\n",
       "<td width=\"130px\">\n",
       "<div class=\"wtrButtonContainer wtrSignedOut\" id=\"1_book_2657\">\n",
       "<div class=\"wtrUp wtrLeft\">\n",
       "<form accept-charset=\"UTF-8\" action=\"/shelf/add_to_shelf\" method=\"post\"><input name=\"utf8\" type=\"hidden\" value=\"✓\"/><input name=\"authenticity_token\" type=\"hidden\" value=\"W+9oJpTXVQAEuZvTkJ+e12Nh1kMEm7pG3ACsWm7XcyHN2cBC/YNFNVqmV2S/eDT2spJ+7GHFowv7e/TGMsw85g==\"/>\n",
       "<input id=\"book_id\" name=\"book_id\" type=\"hidden\" value=\"2657\"/>\n",
       "<input id=\"name\" name=\"name\" type=\"hidden\" value=\"to-read\"/>\n",
       "<input id=\"unique_id\" name=\"unique_id\" type=\"hidden\" value=\"1_book_2657\"/>\n",
       "<input id=\"wtr_new\" name=\"wtr_new\" type=\"hidden\" value=\"true\"/>\n",
       "<input id=\"from_choice\" name=\"from_choice\" type=\"hidden\" value=\"false\"/>\n",
       "<input id=\"from_home_module\" name=\"from_home_module\" type=\"hidden\" value=\"false\"/>\n",
       "<input class=\"wtrLeftUpRef\" id=\"ref\" name=\"ref\" type=\"hidden\" value=\"\"/>\n",
       "<input class=\"wtrExisting\" id=\"existing_review\" name=\"existing_review\" type=\"hidden\" value=\"false\"/>\n",
       "<input id=\"page_url\" name=\"page_url\" type=\"hidden\"/>\n",
       "<button class=\"wtrToRead\" type=\"submit\">\n",
       "<span class=\"progressTrigger\">Want to Read</span>\n",
       "<span class=\"progressIndicator\">saving…</span>\n",
       "</button>\n",
       "</form>\n",
       "</div>\n",
       "<div class=\"wtrRight wtrUp\">\n",
       "<form accept-charset=\"UTF-8\" action=\"/shelf/add_to_shelf\" class=\"hiddenShelfForm\" method=\"post\"><input name=\"utf8\" type=\"hidden\" value=\"✓\"/><input name=\"authenticity_token\" type=\"hidden\" value=\"bUmxHIaHBXxNymBAPNtaOIjeRm2FYSxMQO9AVPd+FAr7fxl479MVSRPVrPcTPPAZWS3uwuA/NQFnlBjIq2VbzQ==\"/>\n",
       "<input id=\"unique_id\" name=\"unique_id\" type=\"hidden\" value=\"1_book_2657\"/>\n",
       "<input id=\"book_id\" name=\"book_id\" type=\"hidden\" value=\"2657\"/>\n",
       "<input id=\"a\" name=\"a\" type=\"hidden\"/>\n",
       "<input id=\"name\" name=\"name\" type=\"hidden\"/>\n",
       "<input id=\"from_choice\" name=\"from_choice\" type=\"hidden\" value=\"false\"/>\n",
       "<input id=\"from_home_module\" name=\"from_home_module\" type=\"hidden\" value=\"false\"/>\n",
       "<input id=\"page_url\" name=\"page_url\" type=\"hidden\"/>\n",
       "</form>\n",
       "<button class=\"wtrShelfButton\"></button>\n",
       "<div class=\"wtrShelfMenu\">\n",
       "<ul class=\"wtrExclusiveShelves\">\n",
       "<li><button class=\"wtrExclusiveShelf\" name=\"name\" type=\"submit\" value=\"to-read\">\n",
       "<span class=\"progressTrigger\">Want to Read</span>\n",
       "<img alt=\"saving…\" class=\"progressIndicator\" src=\"https://s.gr-assets.com/assets/loading-trans-ced157046184c3bc7c180ffbfc6825a4.gif\"/>\n",
       "</button>\n",
       "</li>\n",
       "<li><button class=\"wtrExclusiveShelf\" name=\"name\" type=\"submit\" value=\"currently-reading\">\n",
       "<span class=\"progressTrigger\">Currently Reading</span>\n",
       "<img alt=\"saving…\" class=\"progressIndicator\" src=\"https://s.gr-assets.com/assets/loading-trans-ced157046184c3bc7c180ffbfc6825a4.gif\"/>\n",
       "</button>\n",
       "</li>\n",
       "<li><button class=\"wtrExclusiveShelf\" name=\"name\" type=\"submit\" value=\"read\">\n",
       "<span class=\"progressTrigger\">Read</span>\n",
       "<img alt=\"saving…\" class=\"progressIndicator\" src=\"https://s.gr-assets.com/assets/loading-trans-ced157046184c3bc7c180ffbfc6825a4.gif\"/>\n",
       "</button>\n",
       "</li>\n",
       "</ul>\n",
       "</div>\n",
       "</div>\n",
       "<div class=\"ratingStars wtrRating\">\n",
       "<div class=\"starsErrorTooltip hidden\">\n",
       "Error rating book. Refresh and try again.\n",
       "</div>\n",
       "<div class=\"myRating uitext greyText\">Rate this book</div>\n",
       "<div class=\"clearRating uitext\">Clear rating</div>\n",
       "<div class=\"stars\" data-rating=\"0\" data-resource-id=\"2657\" data-submit-url=\"/review/rate/2657?stars_click=true&amp;wtr_button_id=1_book_2657\" data-user-id=\"0\"><a class=\"star off\" href=\"#\" ref=\"\" title=\"did not like it\">1 of 5 stars</a><a class=\"star off\" href=\"#\" ref=\"\" title=\"it was ok\">2 of 5 stars</a><a class=\"star off\" href=\"#\" ref=\"\" title=\"liked it\">3 of 5 stars</a><a class=\"star off\" href=\"#\" ref=\"\" title=\"really liked it\">4 of 5 stars</a><a class=\"star off\" href=\"#\" ref=\"\" title=\"it was amazing\">5 of 5 stars</a></div>\n",
       "</div>\n",
       "</div>\n",
       "</td>\n",
       "</tr>"
      ]
     },
     "execution_count": 11,
     "metadata": {},
     "output_type": "execute_result"
    }
   ],
   "source": [
    "soup.find_all('tr', '')[0]"
   ]
  },
  {
   "cell_type": "markdown",
   "metadata": {},
   "source": [
    "Identify the elements that I want"
   ]
  },
  {
   "cell_type": "code",
   "execution_count": 19,
   "metadata": {},
   "outputs": [],
   "source": [
    "entries = soup.find_all('tr', '')[0]"
   ]
  },
  {
   "cell_type": "code",
   "execution_count": 62,
   "metadata": {},
   "outputs": [
    {
     "data": {
      "text/plain": [
       "'23,464 people voted'"
      ]
     },
     "execution_count": 62,
     "metadata": {},
     "output_type": "execute_result"
    }
   ],
   "source": [
    "entries.find('td', 'number').text # ranking\n",
    "entries.find('a', 'bookTitle').text.strip() # title\n",
    "entries.find('a', 'bookTitle')['href'] # link to book\n",
    "entries.find('a', 'authorName').text.rstrip() # author\n",
    "entries.find('span', 'minirating').text.strip() # rating\n",
    "entries.find('span', 'smallText uitext').find('a').text # score\n",
    "entries.find('span', 'smallText uitext').find_all('a')[1].text # votes\n"
   ]
  },
  {
   "cell_type": "code",
   "execution_count": 38,
   "metadata": {},
   "outputs": [],
   "source": []
  },
  {
   "cell_type": "code",
   "execution_count": null,
   "metadata": {},
   "outputs": [],
   "source": []
  }
 ],
 "metadata": {
  "kernelspec": {
   "display_name": "Python 3",
   "language": "python",
   "name": "python3"
  },
  "language_info": {
   "codemirror_mode": {
    "name": "ipython",
    "version": 3
   },
   "file_extension": ".py",
   "mimetype": "text/x-python",
   "name": "python",
   "nbconvert_exporter": "python",
   "pygments_lexer": "ipython3",
   "version": "3.7.9"
  }
 },
 "nbformat": 4,
 "nbformat_minor": 4
}
